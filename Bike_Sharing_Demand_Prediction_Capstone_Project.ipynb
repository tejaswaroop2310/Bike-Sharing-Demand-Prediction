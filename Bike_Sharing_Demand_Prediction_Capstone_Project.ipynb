{
  "nbformat": 4,
  "nbformat_minor": 0,
  "metadata": {
    "kernelspec": {
      "display_name": "Python 3",
      "language": "python",
      "name": "python3"
    },
    "language_info": {
      "codemirror_mode": {
        "name": "ipython",
        "version": 3
      },
      "file_extension": ".py",
      "mimetype": "text/x-python",
      "name": "python",
      "nbconvert_exporter": "python",
      "pygments_lexer": "ipython3",
      "version": "3.7.1"
    },
    "colab": {
      "name": "Bike Sharing Demand Prediction - Capstone Project.ipynb",
      "provenance": [],
      "collapsed_sections": [
        "CDoJybeVsMcm",
        "4qC_S_XnsMcs",
        "_sXMLehXsMcx",
        "4GvpUWs9hIoj",
        "uEXaG3dZh4Fl",
        "SKBacif6hx09",
        "1RxCR_rrh-mJ",
        "V9OhYEFLsMc7",
        "PGCZW_EiiPgW",
        "NGsuSFA3sMc8",
        "V-9joG6HsMc9",
        "hjSZLj0MsMc-",
        "ddXrXx1EsMdC",
        "1yEB3vdgsMdE",
        "7uiRTFXosMdQ",
        "I0cp5016sMdS",
        "Ny6734treZRv",
        "luio1uJ6sMda"
      ],
      "include_colab_link": true
    }
  },
  "cells": [
    {
      "cell_type": "markdown",
      "metadata": {
        "id": "view-in-github",
        "colab_type": "text"
      },
      "source": [
        "<a href=\"https://colab.research.google.com/github/tejaswaroop2310/Bike-Sharing-Demand-Prediction/blob/main/Bike_Sharing_Demand_Prediction_Capstone_Project.ipynb\" target=\"_parent\"><img src=\"https://colab.research.google.com/assets/colab-badge.svg\" alt=\"Open In Colab\"/></a>"
      ]
    },
    {
      "cell_type": "markdown",
      "metadata": {
        "id": "C98Z99d_sMcT"
      },
      "source": [
        "# <b><u> Project Title : Seoul Bike Sharing Demand Prediction </u></b>"
      ]
    },
    {
      "cell_type": "markdown",
      "metadata": {
        "id": "mk-Zeyc4fOcC"
      },
      "source": [
        "## <b> Problem Description </b>\n",
        "\n",
        "### Currently Rental bikes are introduced in many urban cities for the enhancement of mobility comfort. It is important to make the rental bike available and accessible to the public at the right time as it lessens the waiting time. Eventually, providing the city with a stable supply of rental bikes becomes a major concern. The crucial part is the prediction of bike count required at each hour for the stable supply of rental bikes.\n"
      ]
    },
    {
      "cell_type": "markdown",
      "metadata": {
        "id": "ZedITRjrfSr2"
      },
      "source": [
        "## <b> Data Description </b>\n",
        "\n",
        "### <b> The dataset contains weather information (Temperature, Humidity, Windspeed, Visibility, Dewpoint, Solar radiation, Snowfall, Rainfall), the number of bikes rented per hour and date information.</b>\n",
        "\n",
        "\n",
        "### <b>Attribute Information: </b>\n",
        "\n",
        "* ### Date : year-month-day\n",
        "* ### Rented Bike count - Count of bikes rented at each hour\n",
        "* ### Hour - Hour of he day\n",
        "* ### Temperature-Temperature in Celsius\n",
        "* ### Humidity - %\n",
        "* ### Windspeed - m/s\n",
        "* ### Visibility - 10m\n",
        "* ### Dew point temperature - Celsius\n",
        "* ### Solar radiation - MJ/m2\n",
        "* ### Rainfall - mm\n",
        "* ### Snowfall - cm\n",
        "* ### Seasons - Winter, Spring, Summer, Autumn\n",
        "* ### Holiday - Holiday/No holiday\n",
        "* ### Functional Day - NoFunc(Non Functional Hours), Fun(Functional hours)"
      ]
    },
    {
      "cell_type": "code",
      "metadata": {
        "id": "xL_4iKAwsMcY"
      },
      "source": [
        "#import Libraries\n",
        "import numpy as np\n",
        "import pandas as pd\n",
        "import matplotlib.pyplot as plt\n",
        "import seaborn as sns\n"
      ],
      "execution_count": 2,
      "outputs": []
    },
    {
      "cell_type": "markdown",
      "metadata": {
        "id": "KSmdWB7-sMca"
      },
      "source": [
        "# Import the dataset "
      ]
    },
    {
      "cell_type": "code",
      "metadata": {
        "colab": {
          "base_uri": "https://localhost:8080/"
        },
        "id": "pDiLfssj5Mp1",
        "outputId": "b8da7174-a55d-484a-e753-b32b1bc03f3d"
      },
      "source": [
        "#Mount the drive\n",
        "from google.colab import drive\n",
        "drive.mount('/content/drive')"
      ],
      "execution_count": 3,
      "outputs": [
        {
          "output_type": "stream",
          "name": "stdout",
          "text": [
            "Drive already mounted at /content/drive; to attempt to forcibly remount, call drive.mount(\"/content/drive\", force_remount=True).\n"
          ]
        }
      ]
    },
    {
      "cell_type": "code",
      "metadata": {
        "id": "LZ5yLPWIsMcb"
      },
      "source": [
        "#load the data\n",
        "data=pd.read_csv(\"/content/drive/MyDrive/SeoulBikeData.csv\",encoding= 'unicode_escape')"
      ],
      "execution_count": 4,
      "outputs": []
    },
    {
      "cell_type": "code",
      "metadata": {
        "colab": {
          "base_uri": "https://localhost:8080/",
          "height": 371
        },
        "id": "yNn4nlc3sMcc",
        "outputId": "9aa15ba1-e60b-4177-d62c-a90ece535c30"
      },
      "source": [
        "#first five records of the data set\n",
        "data.head()"
      ],
      "execution_count": 5,
      "outputs": [
        {
          "output_type": "execute_result",
          "data": {
            "text/html": [
              "\n",
              "  <div id=\"df-ca52445c-0379-4870-82b8-6641ac92ab74\">\n",
              "    <div class=\"colab-df-container\">\n",
              "      <div>\n",
              "<style scoped>\n",
              "    .dataframe tbody tr th:only-of-type {\n",
              "        vertical-align: middle;\n",
              "    }\n",
              "\n",
              "    .dataframe tbody tr th {\n",
              "        vertical-align: top;\n",
              "    }\n",
              "\n",
              "    .dataframe thead th {\n",
              "        text-align: right;\n",
              "    }\n",
              "</style>\n",
              "<table border=\"1\" class=\"dataframe\">\n",
              "  <thead>\n",
              "    <tr style=\"text-align: right;\">\n",
              "      <th></th>\n",
              "      <th>Date</th>\n",
              "      <th>Rented Bike Count</th>\n",
              "      <th>Hour</th>\n",
              "      <th>Temperature(°C)</th>\n",
              "      <th>Humidity(%)</th>\n",
              "      <th>Wind speed (m/s)</th>\n",
              "      <th>Visibility (10m)</th>\n",
              "      <th>Dew point temperature(°C)</th>\n",
              "      <th>Solar Radiation (MJ/m2)</th>\n",
              "      <th>Rainfall(mm)</th>\n",
              "      <th>Snowfall (cm)</th>\n",
              "      <th>Seasons</th>\n",
              "      <th>Holiday</th>\n",
              "      <th>Functioning Day</th>\n",
              "    </tr>\n",
              "  </thead>\n",
              "  <tbody>\n",
              "    <tr>\n",
              "      <th>0</th>\n",
              "      <td>01/12/2017</td>\n",
              "      <td>254</td>\n",
              "      <td>0</td>\n",
              "      <td>-5.2</td>\n",
              "      <td>37</td>\n",
              "      <td>2.2</td>\n",
              "      <td>2000</td>\n",
              "      <td>-17.6</td>\n",
              "      <td>0.0</td>\n",
              "      <td>0.0</td>\n",
              "      <td>0.0</td>\n",
              "      <td>Winter</td>\n",
              "      <td>No Holiday</td>\n",
              "      <td>Yes</td>\n",
              "    </tr>\n",
              "    <tr>\n",
              "      <th>1</th>\n",
              "      <td>01/12/2017</td>\n",
              "      <td>204</td>\n",
              "      <td>1</td>\n",
              "      <td>-5.5</td>\n",
              "      <td>38</td>\n",
              "      <td>0.8</td>\n",
              "      <td>2000</td>\n",
              "      <td>-17.6</td>\n",
              "      <td>0.0</td>\n",
              "      <td>0.0</td>\n",
              "      <td>0.0</td>\n",
              "      <td>Winter</td>\n",
              "      <td>No Holiday</td>\n",
              "      <td>Yes</td>\n",
              "    </tr>\n",
              "    <tr>\n",
              "      <th>2</th>\n",
              "      <td>01/12/2017</td>\n",
              "      <td>173</td>\n",
              "      <td>2</td>\n",
              "      <td>-6.0</td>\n",
              "      <td>39</td>\n",
              "      <td>1.0</td>\n",
              "      <td>2000</td>\n",
              "      <td>-17.7</td>\n",
              "      <td>0.0</td>\n",
              "      <td>0.0</td>\n",
              "      <td>0.0</td>\n",
              "      <td>Winter</td>\n",
              "      <td>No Holiday</td>\n",
              "      <td>Yes</td>\n",
              "    </tr>\n",
              "    <tr>\n",
              "      <th>3</th>\n",
              "      <td>01/12/2017</td>\n",
              "      <td>107</td>\n",
              "      <td>3</td>\n",
              "      <td>-6.2</td>\n",
              "      <td>40</td>\n",
              "      <td>0.9</td>\n",
              "      <td>2000</td>\n",
              "      <td>-17.6</td>\n",
              "      <td>0.0</td>\n",
              "      <td>0.0</td>\n",
              "      <td>0.0</td>\n",
              "      <td>Winter</td>\n",
              "      <td>No Holiday</td>\n",
              "      <td>Yes</td>\n",
              "    </tr>\n",
              "    <tr>\n",
              "      <th>4</th>\n",
              "      <td>01/12/2017</td>\n",
              "      <td>78</td>\n",
              "      <td>4</td>\n",
              "      <td>-6.0</td>\n",
              "      <td>36</td>\n",
              "      <td>2.3</td>\n",
              "      <td>2000</td>\n",
              "      <td>-18.6</td>\n",
              "      <td>0.0</td>\n",
              "      <td>0.0</td>\n",
              "      <td>0.0</td>\n",
              "      <td>Winter</td>\n",
              "      <td>No Holiday</td>\n",
              "      <td>Yes</td>\n",
              "    </tr>\n",
              "  </tbody>\n",
              "</table>\n",
              "</div>\n",
              "      <button class=\"colab-df-convert\" onclick=\"convertToInteractive('df-ca52445c-0379-4870-82b8-6641ac92ab74')\"\n",
              "              title=\"Convert this dataframe to an interactive table.\"\n",
              "              style=\"display:none;\">\n",
              "        \n",
              "  <svg xmlns=\"http://www.w3.org/2000/svg\" height=\"24px\"viewBox=\"0 0 24 24\"\n",
              "       width=\"24px\">\n",
              "    <path d=\"M0 0h24v24H0V0z\" fill=\"none\"/>\n",
              "    <path d=\"M18.56 5.44l.94 2.06.94-2.06 2.06-.94-2.06-.94-.94-2.06-.94 2.06-2.06.94zm-11 1L8.5 8.5l.94-2.06 2.06-.94-2.06-.94L8.5 2.5l-.94 2.06-2.06.94zm10 10l.94 2.06.94-2.06 2.06-.94-2.06-.94-.94-2.06-.94 2.06-2.06.94z\"/><path d=\"M17.41 7.96l-1.37-1.37c-.4-.4-.92-.59-1.43-.59-.52 0-1.04.2-1.43.59L10.3 9.45l-7.72 7.72c-.78.78-.78 2.05 0 2.83L4 21.41c.39.39.9.59 1.41.59.51 0 1.02-.2 1.41-.59l7.78-7.78 2.81-2.81c.8-.78.8-2.07 0-2.86zM5.41 20L4 18.59l7.72-7.72 1.47 1.35L5.41 20z\"/>\n",
              "  </svg>\n",
              "      </button>\n",
              "      \n",
              "  <style>\n",
              "    .colab-df-container {\n",
              "      display:flex;\n",
              "      flex-wrap:wrap;\n",
              "      gap: 12px;\n",
              "    }\n",
              "\n",
              "    .colab-df-convert {\n",
              "      background-color: #E8F0FE;\n",
              "      border: none;\n",
              "      border-radius: 50%;\n",
              "      cursor: pointer;\n",
              "      display: none;\n",
              "      fill: #1967D2;\n",
              "      height: 32px;\n",
              "      padding: 0 0 0 0;\n",
              "      width: 32px;\n",
              "    }\n",
              "\n",
              "    .colab-df-convert:hover {\n",
              "      background-color: #E2EBFA;\n",
              "      box-shadow: 0px 1px 2px rgba(60, 64, 67, 0.3), 0px 1px 3px 1px rgba(60, 64, 67, 0.15);\n",
              "      fill: #174EA6;\n",
              "    }\n",
              "\n",
              "    [theme=dark] .colab-df-convert {\n",
              "      background-color: #3B4455;\n",
              "      fill: #D2E3FC;\n",
              "    }\n",
              "\n",
              "    [theme=dark] .colab-df-convert:hover {\n",
              "      background-color: #434B5C;\n",
              "      box-shadow: 0px 1px 3px 1px rgba(0, 0, 0, 0.15);\n",
              "      filter: drop-shadow(0px 1px 2px rgba(0, 0, 0, 0.3));\n",
              "      fill: #FFFFFF;\n",
              "    }\n",
              "  </style>\n",
              "\n",
              "      <script>\n",
              "        const buttonEl =\n",
              "          document.querySelector('#df-ca52445c-0379-4870-82b8-6641ac92ab74 button.colab-df-convert');\n",
              "        buttonEl.style.display =\n",
              "          google.colab.kernel.accessAllowed ? 'block' : 'none';\n",
              "\n",
              "        async function convertToInteractive(key) {\n",
              "          const element = document.querySelector('#df-ca52445c-0379-4870-82b8-6641ac92ab74');\n",
              "          const dataTable =\n",
              "            await google.colab.kernel.invokeFunction('convertToInteractive',\n",
              "                                                     [key], {});\n",
              "          if (!dataTable) return;\n",
              "\n",
              "          const docLinkHtml = 'Like what you see? Visit the ' +\n",
              "            '<a target=\"_blank\" href=https://colab.research.google.com/notebooks/data_table.ipynb>data table notebook</a>'\n",
              "            + ' to learn more about interactive tables.';\n",
              "          element.innerHTML = '';\n",
              "          dataTable['output_type'] = 'display_data';\n",
              "          await google.colab.output.renderOutput(dataTable, element);\n",
              "          const docLink = document.createElement('div');\n",
              "          docLink.innerHTML = docLinkHtml;\n",
              "          element.appendChild(docLink);\n",
              "        }\n",
              "      </script>\n",
              "    </div>\n",
              "  </div>\n",
              "  "
            ],
            "text/plain": [
              "         Date  Rented Bike Count  Hour  ...  Seasons     Holiday  Functioning Day\n",
              "0  01/12/2017                254     0  ...   Winter  No Holiday              Yes\n",
              "1  01/12/2017                204     1  ...   Winter  No Holiday              Yes\n",
              "2  01/12/2017                173     2  ...   Winter  No Holiday              Yes\n",
              "3  01/12/2017                107     3  ...   Winter  No Holiday              Yes\n",
              "4  01/12/2017                 78     4  ...   Winter  No Holiday              Yes\n",
              "\n",
              "[5 rows x 14 columns]"
            ]
          },
          "metadata": {},
          "execution_count": 5
        }
      ]
    },
    {
      "cell_type": "code",
      "metadata": {
        "scrolled": true,
        "colab": {
          "base_uri": "https://localhost:8080/",
          "height": 371
        },
        "id": "PAUxN3oRsMcd",
        "outputId": "5801a6c2-3ffb-4bb4-87a6-a8865c180b48"
      },
      "source": [
        "#Last five records of the dataset\n",
        "data.tail()"
      ],
      "execution_count": 6,
      "outputs": [
        {
          "output_type": "execute_result",
          "data": {
            "text/html": [
              "\n",
              "  <div id=\"df-ad1755cd-7760-4b37-a2cb-892adc289025\">\n",
              "    <div class=\"colab-df-container\">\n",
              "      <div>\n",
              "<style scoped>\n",
              "    .dataframe tbody tr th:only-of-type {\n",
              "        vertical-align: middle;\n",
              "    }\n",
              "\n",
              "    .dataframe tbody tr th {\n",
              "        vertical-align: top;\n",
              "    }\n",
              "\n",
              "    .dataframe thead th {\n",
              "        text-align: right;\n",
              "    }\n",
              "</style>\n",
              "<table border=\"1\" class=\"dataframe\">\n",
              "  <thead>\n",
              "    <tr style=\"text-align: right;\">\n",
              "      <th></th>\n",
              "      <th>Date</th>\n",
              "      <th>Rented Bike Count</th>\n",
              "      <th>Hour</th>\n",
              "      <th>Temperature(°C)</th>\n",
              "      <th>Humidity(%)</th>\n",
              "      <th>Wind speed (m/s)</th>\n",
              "      <th>Visibility (10m)</th>\n",
              "      <th>Dew point temperature(°C)</th>\n",
              "      <th>Solar Radiation (MJ/m2)</th>\n",
              "      <th>Rainfall(mm)</th>\n",
              "      <th>Snowfall (cm)</th>\n",
              "      <th>Seasons</th>\n",
              "      <th>Holiday</th>\n",
              "      <th>Functioning Day</th>\n",
              "    </tr>\n",
              "  </thead>\n",
              "  <tbody>\n",
              "    <tr>\n",
              "      <th>8755</th>\n",
              "      <td>30/11/2018</td>\n",
              "      <td>1003</td>\n",
              "      <td>19</td>\n",
              "      <td>4.2</td>\n",
              "      <td>34</td>\n",
              "      <td>2.6</td>\n",
              "      <td>1894</td>\n",
              "      <td>-10.3</td>\n",
              "      <td>0.0</td>\n",
              "      <td>0.0</td>\n",
              "      <td>0.0</td>\n",
              "      <td>Autumn</td>\n",
              "      <td>No Holiday</td>\n",
              "      <td>Yes</td>\n",
              "    </tr>\n",
              "    <tr>\n",
              "      <th>8756</th>\n",
              "      <td>30/11/2018</td>\n",
              "      <td>764</td>\n",
              "      <td>20</td>\n",
              "      <td>3.4</td>\n",
              "      <td>37</td>\n",
              "      <td>2.3</td>\n",
              "      <td>2000</td>\n",
              "      <td>-9.9</td>\n",
              "      <td>0.0</td>\n",
              "      <td>0.0</td>\n",
              "      <td>0.0</td>\n",
              "      <td>Autumn</td>\n",
              "      <td>No Holiday</td>\n",
              "      <td>Yes</td>\n",
              "    </tr>\n",
              "    <tr>\n",
              "      <th>8757</th>\n",
              "      <td>30/11/2018</td>\n",
              "      <td>694</td>\n",
              "      <td>21</td>\n",
              "      <td>2.6</td>\n",
              "      <td>39</td>\n",
              "      <td>0.3</td>\n",
              "      <td>1968</td>\n",
              "      <td>-9.9</td>\n",
              "      <td>0.0</td>\n",
              "      <td>0.0</td>\n",
              "      <td>0.0</td>\n",
              "      <td>Autumn</td>\n",
              "      <td>No Holiday</td>\n",
              "      <td>Yes</td>\n",
              "    </tr>\n",
              "    <tr>\n",
              "      <th>8758</th>\n",
              "      <td>30/11/2018</td>\n",
              "      <td>712</td>\n",
              "      <td>22</td>\n",
              "      <td>2.1</td>\n",
              "      <td>41</td>\n",
              "      <td>1.0</td>\n",
              "      <td>1859</td>\n",
              "      <td>-9.8</td>\n",
              "      <td>0.0</td>\n",
              "      <td>0.0</td>\n",
              "      <td>0.0</td>\n",
              "      <td>Autumn</td>\n",
              "      <td>No Holiday</td>\n",
              "      <td>Yes</td>\n",
              "    </tr>\n",
              "    <tr>\n",
              "      <th>8759</th>\n",
              "      <td>30/11/2018</td>\n",
              "      <td>584</td>\n",
              "      <td>23</td>\n",
              "      <td>1.9</td>\n",
              "      <td>43</td>\n",
              "      <td>1.3</td>\n",
              "      <td>1909</td>\n",
              "      <td>-9.3</td>\n",
              "      <td>0.0</td>\n",
              "      <td>0.0</td>\n",
              "      <td>0.0</td>\n",
              "      <td>Autumn</td>\n",
              "      <td>No Holiday</td>\n",
              "      <td>Yes</td>\n",
              "    </tr>\n",
              "  </tbody>\n",
              "</table>\n",
              "</div>\n",
              "      <button class=\"colab-df-convert\" onclick=\"convertToInteractive('df-ad1755cd-7760-4b37-a2cb-892adc289025')\"\n",
              "              title=\"Convert this dataframe to an interactive table.\"\n",
              "              style=\"display:none;\">\n",
              "        \n",
              "  <svg xmlns=\"http://www.w3.org/2000/svg\" height=\"24px\"viewBox=\"0 0 24 24\"\n",
              "       width=\"24px\">\n",
              "    <path d=\"M0 0h24v24H0V0z\" fill=\"none\"/>\n",
              "    <path d=\"M18.56 5.44l.94 2.06.94-2.06 2.06-.94-2.06-.94-.94-2.06-.94 2.06-2.06.94zm-11 1L8.5 8.5l.94-2.06 2.06-.94-2.06-.94L8.5 2.5l-.94 2.06-2.06.94zm10 10l.94 2.06.94-2.06 2.06-.94-2.06-.94-.94-2.06-.94 2.06-2.06.94z\"/><path d=\"M17.41 7.96l-1.37-1.37c-.4-.4-.92-.59-1.43-.59-.52 0-1.04.2-1.43.59L10.3 9.45l-7.72 7.72c-.78.78-.78 2.05 0 2.83L4 21.41c.39.39.9.59 1.41.59.51 0 1.02-.2 1.41-.59l7.78-7.78 2.81-2.81c.8-.78.8-2.07 0-2.86zM5.41 20L4 18.59l7.72-7.72 1.47 1.35L5.41 20z\"/>\n",
              "  </svg>\n",
              "      </button>\n",
              "      \n",
              "  <style>\n",
              "    .colab-df-container {\n",
              "      display:flex;\n",
              "      flex-wrap:wrap;\n",
              "      gap: 12px;\n",
              "    }\n",
              "\n",
              "    .colab-df-convert {\n",
              "      background-color: #E8F0FE;\n",
              "      border: none;\n",
              "      border-radius: 50%;\n",
              "      cursor: pointer;\n",
              "      display: none;\n",
              "      fill: #1967D2;\n",
              "      height: 32px;\n",
              "      padding: 0 0 0 0;\n",
              "      width: 32px;\n",
              "    }\n",
              "\n",
              "    .colab-df-convert:hover {\n",
              "      background-color: #E2EBFA;\n",
              "      box-shadow: 0px 1px 2px rgba(60, 64, 67, 0.3), 0px 1px 3px 1px rgba(60, 64, 67, 0.15);\n",
              "      fill: #174EA6;\n",
              "    }\n",
              "\n",
              "    [theme=dark] .colab-df-convert {\n",
              "      background-color: #3B4455;\n",
              "      fill: #D2E3FC;\n",
              "    }\n",
              "\n",
              "    [theme=dark] .colab-df-convert:hover {\n",
              "      background-color: #434B5C;\n",
              "      box-shadow: 0px 1px 3px 1px rgba(0, 0, 0, 0.15);\n",
              "      filter: drop-shadow(0px 1px 2px rgba(0, 0, 0, 0.3));\n",
              "      fill: #FFFFFF;\n",
              "    }\n",
              "  </style>\n",
              "\n",
              "      <script>\n",
              "        const buttonEl =\n",
              "          document.querySelector('#df-ad1755cd-7760-4b37-a2cb-892adc289025 button.colab-df-convert');\n",
              "        buttonEl.style.display =\n",
              "          google.colab.kernel.accessAllowed ? 'block' : 'none';\n",
              "\n",
              "        async function convertToInteractive(key) {\n",
              "          const element = document.querySelector('#df-ad1755cd-7760-4b37-a2cb-892adc289025');\n",
              "          const dataTable =\n",
              "            await google.colab.kernel.invokeFunction('convertToInteractive',\n",
              "                                                     [key], {});\n",
              "          if (!dataTable) return;\n",
              "\n",
              "          const docLinkHtml = 'Like what you see? Visit the ' +\n",
              "            '<a target=\"_blank\" href=https://colab.research.google.com/notebooks/data_table.ipynb>data table notebook</a>'\n",
              "            + ' to learn more about interactive tables.';\n",
              "          element.innerHTML = '';\n",
              "          dataTable['output_type'] = 'display_data';\n",
              "          await google.colab.output.renderOutput(dataTable, element);\n",
              "          const docLink = document.createElement('div');\n",
              "          docLink.innerHTML = docLinkHtml;\n",
              "          element.appendChild(docLink);\n",
              "        }\n",
              "      </script>\n",
              "    </div>\n",
              "  </div>\n",
              "  "
            ],
            "text/plain": [
              "            Date  Rented Bike Count  Hour  ...  Seasons     Holiday  Functioning Day\n",
              "8755  30/11/2018               1003    19  ...   Autumn  No Holiday              Yes\n",
              "8756  30/11/2018                764    20  ...   Autumn  No Holiday              Yes\n",
              "8757  30/11/2018                694    21  ...   Autumn  No Holiday              Yes\n",
              "8758  30/11/2018                712    22  ...   Autumn  No Holiday              Yes\n",
              "8759  30/11/2018                584    23  ...   Autumn  No Holiday              Yes\n",
              "\n",
              "[5 rows x 14 columns]"
            ]
          },
          "metadata": {},
          "execution_count": 6
        }
      ]
    },
    {
      "cell_type": "markdown",
      "metadata": {
        "id": "GD6YqgOgsMce"
      },
      "source": [
        "# Step 1 : Exploratory Data Analysis and Preprocessing"
      ]
    },
    {
      "cell_type": "code",
      "metadata": {
        "colab": {
          "base_uri": "https://localhost:8080/"
        },
        "id": "7GaDCC1rsMcf",
        "outputId": "26faa033-b369-4e38-a672-9b058407903a"
      },
      "source": [
        "#Shape of the Dataset\n",
        "print('The DataFrame contains {} record and {} columns '.format(data.shape[0],data.shape[1]))"
      ],
      "execution_count": 7,
      "outputs": [
        {
          "output_type": "stream",
          "name": "stdout",
          "text": [
            "The DataFrame contains 8760 record and 14 columns \n"
          ]
        }
      ]
    },
    {
      "cell_type": "code",
      "metadata": {
        "colab": {
          "base_uri": "https://localhost:8080/"
        },
        "id": "telyvy5NsMch",
        "outputId": "799dc9e7-b454-4392-d3c9-ddf5216a66a4"
      },
      "source": [
        "#check the datatype of the labels\n",
        "data.dtypes"
      ],
      "execution_count": 8,
      "outputs": [
        {
          "output_type": "execute_result",
          "data": {
            "text/plain": [
              "Date                          object\n",
              "Rented Bike Count              int64\n",
              "Hour                           int64\n",
              "Temperature(°C)              float64\n",
              "Humidity(%)                    int64\n",
              "Wind speed (m/s)             float64\n",
              "Visibility (10m)               int64\n",
              "Dew point temperature(°C)    float64\n",
              "Solar Radiation (MJ/m2)      float64\n",
              "Rainfall(mm)                 float64\n",
              "Snowfall (cm)                float64\n",
              "Seasons                       object\n",
              "Holiday                       object\n",
              "Functioning Day               object\n",
              "dtype: object"
            ]
          },
          "metadata": {},
          "execution_count": 8
        }
      ]
    },
    {
      "cell_type": "markdown",
      "metadata": {
        "id": "w4kUlghcsMci"
      },
      "source": [
        "\n",
        "##### Here is the statitical description of the features"
      ]
    },
    {
      "cell_type": "code",
      "metadata": {
        "scrolled": true,
        "colab": {
          "base_uri": "https://localhost:8080/",
          "height": 344
        },
        "id": "2SJspB_0sMci",
        "outputId": "66a9b4aa-16d5-4e58-8639-aae783a14ba4"
      },
      "source": [
        "#Statistical Information of the DataSet\n",
        "data.describe()"
      ],
      "execution_count": 9,
      "outputs": [
        {
          "output_type": "execute_result",
          "data": {
            "text/html": [
              "\n",
              "  <div id=\"df-12aa912a-aefe-4af5-ad3a-09509acc9429\">\n",
              "    <div class=\"colab-df-container\">\n",
              "      <div>\n",
              "<style scoped>\n",
              "    .dataframe tbody tr th:only-of-type {\n",
              "        vertical-align: middle;\n",
              "    }\n",
              "\n",
              "    .dataframe tbody tr th {\n",
              "        vertical-align: top;\n",
              "    }\n",
              "\n",
              "    .dataframe thead th {\n",
              "        text-align: right;\n",
              "    }\n",
              "</style>\n",
              "<table border=\"1\" class=\"dataframe\">\n",
              "  <thead>\n",
              "    <tr style=\"text-align: right;\">\n",
              "      <th></th>\n",
              "      <th>Rented Bike Count</th>\n",
              "      <th>Hour</th>\n",
              "      <th>Temperature(°C)</th>\n",
              "      <th>Humidity(%)</th>\n",
              "      <th>Wind speed (m/s)</th>\n",
              "      <th>Visibility (10m)</th>\n",
              "      <th>Dew point temperature(°C)</th>\n",
              "      <th>Solar Radiation (MJ/m2)</th>\n",
              "      <th>Rainfall(mm)</th>\n",
              "      <th>Snowfall (cm)</th>\n",
              "    </tr>\n",
              "  </thead>\n",
              "  <tbody>\n",
              "    <tr>\n",
              "      <th>count</th>\n",
              "      <td>8760.000000</td>\n",
              "      <td>8760.000000</td>\n",
              "      <td>8760.000000</td>\n",
              "      <td>8760.000000</td>\n",
              "      <td>8760.000000</td>\n",
              "      <td>8760.000000</td>\n",
              "      <td>8760.000000</td>\n",
              "      <td>8760.000000</td>\n",
              "      <td>8760.000000</td>\n",
              "      <td>8760.000000</td>\n",
              "    </tr>\n",
              "    <tr>\n",
              "      <th>mean</th>\n",
              "      <td>704.602055</td>\n",
              "      <td>11.500000</td>\n",
              "      <td>12.882922</td>\n",
              "      <td>58.226256</td>\n",
              "      <td>1.724909</td>\n",
              "      <td>1436.825799</td>\n",
              "      <td>4.073813</td>\n",
              "      <td>0.569111</td>\n",
              "      <td>0.148687</td>\n",
              "      <td>0.075068</td>\n",
              "    </tr>\n",
              "    <tr>\n",
              "      <th>std</th>\n",
              "      <td>644.997468</td>\n",
              "      <td>6.922582</td>\n",
              "      <td>11.944825</td>\n",
              "      <td>20.362413</td>\n",
              "      <td>1.036300</td>\n",
              "      <td>608.298712</td>\n",
              "      <td>13.060369</td>\n",
              "      <td>0.868746</td>\n",
              "      <td>1.128193</td>\n",
              "      <td>0.436746</td>\n",
              "    </tr>\n",
              "    <tr>\n",
              "      <th>min</th>\n",
              "      <td>0.000000</td>\n",
              "      <td>0.000000</td>\n",
              "      <td>-17.800000</td>\n",
              "      <td>0.000000</td>\n",
              "      <td>0.000000</td>\n",
              "      <td>27.000000</td>\n",
              "      <td>-30.600000</td>\n",
              "      <td>0.000000</td>\n",
              "      <td>0.000000</td>\n",
              "      <td>0.000000</td>\n",
              "    </tr>\n",
              "    <tr>\n",
              "      <th>25%</th>\n",
              "      <td>191.000000</td>\n",
              "      <td>5.750000</td>\n",
              "      <td>3.500000</td>\n",
              "      <td>42.000000</td>\n",
              "      <td>0.900000</td>\n",
              "      <td>940.000000</td>\n",
              "      <td>-4.700000</td>\n",
              "      <td>0.000000</td>\n",
              "      <td>0.000000</td>\n",
              "      <td>0.000000</td>\n",
              "    </tr>\n",
              "    <tr>\n",
              "      <th>50%</th>\n",
              "      <td>504.500000</td>\n",
              "      <td>11.500000</td>\n",
              "      <td>13.700000</td>\n",
              "      <td>57.000000</td>\n",
              "      <td>1.500000</td>\n",
              "      <td>1698.000000</td>\n",
              "      <td>5.100000</td>\n",
              "      <td>0.010000</td>\n",
              "      <td>0.000000</td>\n",
              "      <td>0.000000</td>\n",
              "    </tr>\n",
              "    <tr>\n",
              "      <th>75%</th>\n",
              "      <td>1065.250000</td>\n",
              "      <td>17.250000</td>\n",
              "      <td>22.500000</td>\n",
              "      <td>74.000000</td>\n",
              "      <td>2.300000</td>\n",
              "      <td>2000.000000</td>\n",
              "      <td>14.800000</td>\n",
              "      <td>0.930000</td>\n",
              "      <td>0.000000</td>\n",
              "      <td>0.000000</td>\n",
              "    </tr>\n",
              "    <tr>\n",
              "      <th>max</th>\n",
              "      <td>3556.000000</td>\n",
              "      <td>23.000000</td>\n",
              "      <td>39.400000</td>\n",
              "      <td>98.000000</td>\n",
              "      <td>7.400000</td>\n",
              "      <td>2000.000000</td>\n",
              "      <td>27.200000</td>\n",
              "      <td>3.520000</td>\n",
              "      <td>35.000000</td>\n",
              "      <td>8.800000</td>\n",
              "    </tr>\n",
              "  </tbody>\n",
              "</table>\n",
              "</div>\n",
              "      <button class=\"colab-df-convert\" onclick=\"convertToInteractive('df-12aa912a-aefe-4af5-ad3a-09509acc9429')\"\n",
              "              title=\"Convert this dataframe to an interactive table.\"\n",
              "              style=\"display:none;\">\n",
              "        \n",
              "  <svg xmlns=\"http://www.w3.org/2000/svg\" height=\"24px\"viewBox=\"0 0 24 24\"\n",
              "       width=\"24px\">\n",
              "    <path d=\"M0 0h24v24H0V0z\" fill=\"none\"/>\n",
              "    <path d=\"M18.56 5.44l.94 2.06.94-2.06 2.06-.94-2.06-.94-.94-2.06-.94 2.06-2.06.94zm-11 1L8.5 8.5l.94-2.06 2.06-.94-2.06-.94L8.5 2.5l-.94 2.06-2.06.94zm10 10l.94 2.06.94-2.06 2.06-.94-2.06-.94-.94-2.06-.94 2.06-2.06.94z\"/><path d=\"M17.41 7.96l-1.37-1.37c-.4-.4-.92-.59-1.43-.59-.52 0-1.04.2-1.43.59L10.3 9.45l-7.72 7.72c-.78.78-.78 2.05 0 2.83L4 21.41c.39.39.9.59 1.41.59.51 0 1.02-.2 1.41-.59l7.78-7.78 2.81-2.81c.8-.78.8-2.07 0-2.86zM5.41 20L4 18.59l7.72-7.72 1.47 1.35L5.41 20z\"/>\n",
              "  </svg>\n",
              "      </button>\n",
              "      \n",
              "  <style>\n",
              "    .colab-df-container {\n",
              "      display:flex;\n",
              "      flex-wrap:wrap;\n",
              "      gap: 12px;\n",
              "    }\n",
              "\n",
              "    .colab-df-convert {\n",
              "      background-color: #E8F0FE;\n",
              "      border: none;\n",
              "      border-radius: 50%;\n",
              "      cursor: pointer;\n",
              "      display: none;\n",
              "      fill: #1967D2;\n",
              "      height: 32px;\n",
              "      padding: 0 0 0 0;\n",
              "      width: 32px;\n",
              "    }\n",
              "\n",
              "    .colab-df-convert:hover {\n",
              "      background-color: #E2EBFA;\n",
              "      box-shadow: 0px 1px 2px rgba(60, 64, 67, 0.3), 0px 1px 3px 1px rgba(60, 64, 67, 0.15);\n",
              "      fill: #174EA6;\n",
              "    }\n",
              "\n",
              "    [theme=dark] .colab-df-convert {\n",
              "      background-color: #3B4455;\n",
              "      fill: #D2E3FC;\n",
              "    }\n",
              "\n",
              "    [theme=dark] .colab-df-convert:hover {\n",
              "      background-color: #434B5C;\n",
              "      box-shadow: 0px 1px 3px 1px rgba(0, 0, 0, 0.15);\n",
              "      filter: drop-shadow(0px 1px 2px rgba(0, 0, 0, 0.3));\n",
              "      fill: #FFFFFF;\n",
              "    }\n",
              "  </style>\n",
              "\n",
              "      <script>\n",
              "        const buttonEl =\n",
              "          document.querySelector('#df-12aa912a-aefe-4af5-ad3a-09509acc9429 button.colab-df-convert');\n",
              "        buttonEl.style.display =\n",
              "          google.colab.kernel.accessAllowed ? 'block' : 'none';\n",
              "\n",
              "        async function convertToInteractive(key) {\n",
              "          const element = document.querySelector('#df-12aa912a-aefe-4af5-ad3a-09509acc9429');\n",
              "          const dataTable =\n",
              "            await google.colab.kernel.invokeFunction('convertToInteractive',\n",
              "                                                     [key], {});\n",
              "          if (!dataTable) return;\n",
              "\n",
              "          const docLinkHtml = 'Like what you see? Visit the ' +\n",
              "            '<a target=\"_blank\" href=https://colab.research.google.com/notebooks/data_table.ipynb>data table notebook</a>'\n",
              "            + ' to learn more about interactive tables.';\n",
              "          element.innerHTML = '';\n",
              "          dataTable['output_type'] = 'display_data';\n",
              "          await google.colab.output.renderOutput(dataTable, element);\n",
              "          const docLink = document.createElement('div');\n",
              "          docLink.innerHTML = docLinkHtml;\n",
              "          element.appendChild(docLink);\n",
              "        }\n",
              "      </script>\n",
              "    </div>\n",
              "  </div>\n",
              "  "
            ],
            "text/plain": [
              "       Rented Bike Count         Hour  ...  Rainfall(mm)  Snowfall (cm)\n",
              "count        8760.000000  8760.000000  ...   8760.000000    8760.000000\n",
              "mean          704.602055    11.500000  ...      0.148687       0.075068\n",
              "std           644.997468     6.922582  ...      1.128193       0.436746\n",
              "min             0.000000     0.000000  ...      0.000000       0.000000\n",
              "25%           191.000000     5.750000  ...      0.000000       0.000000\n",
              "50%           504.500000    11.500000  ...      0.000000       0.000000\n",
              "75%          1065.250000    17.250000  ...      0.000000       0.000000\n",
              "max          3556.000000    23.000000  ...     35.000000       8.800000\n",
              "\n",
              "[8 rows x 10 columns]"
            ]
          },
          "metadata": {},
          "execution_count": 9
        }
      ]
    },
    {
      "cell_type": "markdown",
      "metadata": {
        "id": "gIRLeIpwsMcj"
      },
      "source": [
        "#####  Verify that there are no missing values"
      ]
    },
    {
      "cell_type": "code",
      "metadata": {
        "colab": {
          "base_uri": "https://localhost:8080/"
        },
        "id": "bTJhT-_DsMck",
        "outputId": "6deb59ae-7b7d-45a5-ea0a-24c6cdbbe8c9"
      },
      "source": [
        "#check the Null values\n",
        "data.isnull().sum()"
      ],
      "execution_count": 10,
      "outputs": [
        {
          "output_type": "execute_result",
          "data": {
            "text/plain": [
              "Date                         0\n",
              "Rented Bike Count            0\n",
              "Hour                         0\n",
              "Temperature(°C)              0\n",
              "Humidity(%)                  0\n",
              "Wind speed (m/s)             0\n",
              "Visibility (10m)             0\n",
              "Dew point temperature(°C)    0\n",
              "Solar Radiation (MJ/m2)      0\n",
              "Rainfall(mm)                 0\n",
              "Snowfall (cm)                0\n",
              "Seasons                      0\n",
              "Holiday                      0\n",
              "Functioning Day              0\n",
              "dtype: int64"
            ]
          },
          "metadata": {},
          "execution_count": 10
        }
      ]
    },
    {
      "cell_type": "markdown",
      "metadata": {
        "id": "yzvkioKxsMcl"
      },
      "source": [
        "#### We convert as datetime the series 'Date'"
      ]
    },
    {
      "cell_type": "code",
      "metadata": {
        "id": "vGS6X0UksMcl"
      },
      "source": [
        "#Convert into datetime \n",
        "data['Date']=pd.to_datetime(data['Date'],format=\"%d/%m/%Y\")"
      ],
      "execution_count": 11,
      "outputs": []
    },
    {
      "cell_type": "markdown",
      "metadata": {
        "id": "CDoJybeVsMcm"
      },
      "source": [
        "####   "
      ]
    },
    {
      "cell_type": "markdown",
      "metadata": {
        "id": "0uu3O4rTsMcn"
      },
      "source": [
        "## Here are the correlations between variables "
      ]
    },
    {
      "cell_type": "code",
      "metadata": {
        "colab": {
          "base_uri": "https://localhost:8080/",
          "height": 673
        },
        "id": "iGOtrhSWsMcp",
        "outputId": "37e5d164-7770-40f1-bbad-d9428fb8d6f2"
      },
      "source": [
        "#plot the Correlations between Variables\n",
        "plt.figure(figsize=(10,10))\n",
        "sns.heatmap(data.corr(\"pearson\"),\n",
        "            vmin=-1, vmax=1,cmap=\"Blues\",annot=True, \n",
        "            square=True);"
      ],
      "execution_count": 12,
      "outputs": [
        {
          "output_type": "display_data",
          "data": {
            "image/png": "[encoded data removed]",
            "text/plain": [
              "<Figure size 720x720 with 2 Axes>"
            ]
          },
          "metadata": {
            "needs_background": "light"
          }
        }
      ]
    },
    {
      "cell_type": "markdown",
      "metadata": {
        "id": "khGzV-HbsMcq"
      },
      "source": [
        "#### We see that there is a hyper correlation between columns 'Temperature(°C)' and 'Dew point temperature(°C)'  so we can drop the column 'Dew point temperature(°C)'. And they have the same variations."
      ]
    },
    {
      "cell_type": "code",
      "metadata": {
        "id": "Va0gtqrasMcq"
      },
      "source": [
        "#Drop the columns\n",
        "data=data.drop(['Dew point temperature(°C)'],axis=1)"
      ],
      "execution_count": 13,
      "outputs": []
    },
    {
      "cell_type": "markdown",
      "metadata": {
        "id": "4qC_S_XnsMcs"
      },
      "source": [
        "####  "
      ]
    },
    {
      "cell_type": "markdown",
      "metadata": {
        "id": "HWFz6069sMct"
      },
      "source": [
        "# Step 2 : Data Preparation and data Visualisation using Matplotlib and seaborn"
      ]
    },
    {
      "cell_type": "code",
      "metadata": {
        "id": "HvivxpJMsMcv"
      },
      "source": [
        "#create a Series That describes if it is day or night\n",
        "data['label_day_night']=data['Hour'].apply(lambda x : 'Night' if (x >20 or x<5) else( 'Day'))"
      ],
      "execution_count": 14,
      "outputs": []
    },
    {
      "cell_type": "code",
      "metadata": {
        "scrolled": true,
        "id": "TB17Ls74sMcw"
      },
      "source": [
        "#Column give the day of the week\n",
        "data['WeekDay']=data[\"Date\"].dt.day_name() \n"
      ],
      "execution_count": 15,
      "outputs": []
    },
    {
      "cell_type": "code",
      "metadata": {
        "id": "pgPhRVDhsMcw"
      },
      "source": [
        "#Column gives the month of the date\n",
        "data['Month']=data['Date'].dt.month_name()"
      ],
      "execution_count": 16,
      "outputs": []
    },
    {
      "cell_type": "code",
      "metadata": {
        "colab": {
          "base_uri": "https://localhost:8080/",
          "height": 371
        },
        "id": "6WSSnInQbGUG",
        "outputId": "20cc711c-f7ae-4a2d-8f0f-10e66e21fb99"
      },
      "source": [
        "data.head()"
      ],
      "execution_count": 17,
      "outputs": [
        {
          "output_type": "execute_result",
          "data": {
            "text/html": [
              "\n",
              "  <div id=\"df-66202ffc-4e5d-45b2-b8b0-08e9e5f30203\">\n",
              "    <div class=\"colab-df-container\">\n",
              "      <div>\n",
              "<style scoped>\n",
              "    .dataframe tbody tr th:only-of-type {\n",
              "        vertical-align: middle;\n",
              "    }\n",
              "\n",
              "    .dataframe tbody tr th {\n",
              "        vertical-align: top;\n",
              "    }\n",
              "\n",
              "    .dataframe thead th {\n",
              "        text-align: right;\n",
              "    }\n",
              "</style>\n",
              "<table border=\"1\" class=\"dataframe\">\n",
              "  <thead>\n",
              "    <tr style=\"text-align: right;\">\n",
              "      <th></th>\n",
              "      <th>Date</th>\n",
              "      <th>Rented Bike Count</th>\n",
              "      <th>Hour</th>\n",
              "      <th>Temperature(°C)</th>\n",
              "      <th>Humidity(%)</th>\n",
              "      <th>Wind speed (m/s)</th>\n",
              "      <th>Visibility (10m)</th>\n",
              "      <th>Solar Radiation (MJ/m2)</th>\n",
              "      <th>Rainfall(mm)</th>\n",
              "      <th>Snowfall (cm)</th>\n",
              "      <th>Seasons</th>\n",
              "      <th>Holiday</th>\n",
              "      <th>Functioning Day</th>\n",
              "      <th>label_day_night</th>\n",
              "      <th>WeekDay</th>\n",
              "      <th>Month</th>\n",
              "    </tr>\n",
              "  </thead>\n",
              "  <tbody>\n",
              "    <tr>\n",
              "      <th>0</th>\n",
              "      <td>2017-12-01</td>\n",
              "      <td>254</td>\n",
              "      <td>0</td>\n",
              "      <td>-5.2</td>\n",
              "      <td>37</td>\n",
              "      <td>2.2</td>\n",
              "      <td>2000</td>\n",
              "      <td>0.0</td>\n",
              "      <td>0.0</td>\n",
              "      <td>0.0</td>\n",
              "      <td>Winter</td>\n",
              "      <td>No Holiday</td>\n",
              "      <td>Yes</td>\n",
              "      <td>Night</td>\n",
              "      <td>Friday</td>\n",
              "      <td>December</td>\n",
              "    </tr>\n",
              "    <tr>\n",
              "      <th>1</th>\n",
              "      <td>2017-12-01</td>\n",
              "      <td>204</td>\n",
              "      <td>1</td>\n",
              "      <td>-5.5</td>\n",
              "      <td>38</td>\n",
              "      <td>0.8</td>\n",
              "      <td>2000</td>\n",
              "      <td>0.0</td>\n",
              "      <td>0.0</td>\n",
              "      <td>0.0</td>\n",
              "      <td>Winter</td>\n",
              "      <td>No Holiday</td>\n",
              "      <td>Yes</td>\n",
              "      <td>Night</td>\n",
              "      <td>Friday</td>\n",
              "      <td>December</td>\n",
              "    </tr>\n",
              "    <tr>\n",
              "      <th>2</th>\n",
              "      <td>2017-12-01</td>\n",
              "      <td>173</td>\n",
              "      <td>2</td>\n",
              "      <td>-6.0</td>\n",
              "      <td>39</td>\n",
              "      <td>1.0</td>\n",
              "      <td>2000</td>\n",
              "      <td>0.0</td>\n",
              "      <td>0.0</td>\n",
              "      <td>0.0</td>\n",
              "      <td>Winter</td>\n",
              "      <td>No Holiday</td>\n",
              "      <td>Yes</td>\n",
              "      <td>Night</td>\n",
              "      <td>Friday</td>\n",
              "      <td>December</td>\n",
              "    </tr>\n",
              "    <tr>\n",
              "      <th>3</th>\n",
              "      <td>2017-12-01</td>\n",
              "      <td>107</td>\n",
              "      <td>3</td>\n",
              "      <td>-6.2</td>\n",
              "      <td>40</td>\n",
              "      <td>0.9</td>\n",
              "      <td>2000</td>\n",
              "      <td>0.0</td>\n",
              "      <td>0.0</td>\n",
              "      <td>0.0</td>\n",
              "      <td>Winter</td>\n",
              "      <td>No Holiday</td>\n",
              "      <td>Yes</td>\n",
              "      <td>Night</td>\n",
              "      <td>Friday</td>\n",
              "      <td>December</td>\n",
              "    </tr>\n",
              "    <tr>\n",
              "      <th>4</th>\n",
              "      <td>2017-12-01</td>\n",
              "      <td>78</td>\n",
              "      <td>4</td>\n",
              "      <td>-6.0</td>\n",
              "      <td>36</td>\n",
              "      <td>2.3</td>\n",
              "      <td>2000</td>\n",
              "      <td>0.0</td>\n",
              "      <td>0.0</td>\n",
              "      <td>0.0</td>\n",
              "      <td>Winter</td>\n",
              "      <td>No Holiday</td>\n",
              "      <td>Yes</td>\n",
              "      <td>Night</td>\n",
              "      <td>Friday</td>\n",
              "      <td>December</td>\n",
              "    </tr>\n",
              "  </tbody>\n",
              "</table>\n",
              "</div>\n",
              "      <button class=\"colab-df-convert\" onclick=\"convertToInteractive('df-66202ffc-4e5d-45b2-b8b0-08e9e5f30203')\"\n",
              "              title=\"Convert this dataframe to an interactive table.\"\n",
              "              style=\"display:none;\">\n",
              "        \n",
              "  <svg xmlns=\"http://www.w3.org/2000/svg\" height=\"24px\"viewBox=\"0 0 24 24\"\n",
              "       width=\"24px\">\n",
              "    <path d=\"M0 0h24v24H0V0z\" fill=\"none\"/>\n",
              "    <path d=\"M18.56 5.44l.94 2.06.94-2.06 2.06-.94-2.06-.94-.94-2.06-.94 2.06-2.06.94zm-11 1L8.5 8.5l.94-2.06 2.06-.94-2.06-.94L8.5 2.5l-.94 2.06-2.06.94zm10 10l.94 2.06.94-2.06 2.06-.94-2.06-.94-.94-2.06-.94 2.06-2.06.94z\"/><path d=\"M17.41 7.96l-1.37-1.37c-.4-.4-.92-.59-1.43-.59-.52 0-1.04.2-1.43.59L10.3 9.45l-7.72 7.72c-.78.78-.78 2.05 0 2.83L4 21.41c.39.39.9.59 1.41.59.51 0 1.02-.2 1.41-.59l7.78-7.78 2.81-2.81c.8-.78.8-2.07 0-2.86zM5.41 20L4 18.59l7.72-7.72 1.47 1.35L5.41 20z\"/>\n",
              "  </svg>\n",
              "      </button>\n",
              "      \n",
              "  <style>\n",
              "    .colab-df-container {\n",
              "      display:flex;\n",
              "      flex-wrap:wrap;\n",
              "      gap: 12px;\n",
              "    }\n",
              "\n",
              "    .colab-df-convert {\n",
              "      background-color: #E8F0FE;\n",
              "      border: none;\n",
              "      border-radius: 50%;\n",
              "      cursor: pointer;\n",
              "      display: none;\n",
              "      fill: #1967D2;\n",
              "      height: 32px;\n",
              "      padding: 0 0 0 0;\n",
              "      width: 32px;\n",
              "    }\n",
              "\n",
              "    .colab-df-convert:hover {\n",
              "      background-color: #E2EBFA;\n",
              "      box-shadow: 0px 1px 2px rgba(60, 64, 67, 0.3), 0px 1px 3px 1px rgba(60, 64, 67, 0.15);\n",
              "      fill: #174EA6;\n",
              "    }\n",
              "\n",
              "    [theme=dark] .colab-df-convert {\n",
              "      background-color: #3B4455;\n",
              "      fill: #D2E3FC;\n",
              "    }\n",
              "\n",
              "    [theme=dark] .colab-df-convert:hover {\n",
              "      background-color: #434B5C;\n",
              "      box-shadow: 0px 1px 3px 1px rgba(0, 0, 0, 0.15);\n",
              "      filter: drop-shadow(0px 1px 2px rgba(0, 0, 0, 0.3));\n",
              "      fill: #FFFFFF;\n",
              "    }\n",
              "  </style>\n",
              "\n",
              "      <script>\n",
              "        const buttonEl =\n",
              "          document.querySelector('#df-66202ffc-4e5d-45b2-b8b0-08e9e5f30203 button.colab-df-convert');\n",
              "        buttonEl.style.display =\n",
              "          google.colab.kernel.accessAllowed ? 'block' : 'none';\n",
              "\n",
              "        async function convertToInteractive(key) {\n",
              "          const element = document.querySelector('#df-66202ffc-4e5d-45b2-b8b0-08e9e5f30203');\n",
              "          const dataTable =\n",
              "            await google.colab.kernel.invokeFunction('convertToInteractive',\n",
              "                                                     [key], {});\n",
              "          if (!dataTable) return;\n",
              "\n",
              "          const docLinkHtml = 'Like what you see? Visit the ' +\n",
              "            '<a target=\"_blank\" href=https://colab.research.google.com/notebooks/data_table.ipynb>data table notebook</a>'\n",
              "            + ' to learn more about interactive tables.';\n",
              "          element.innerHTML = '';\n",
              "          dataTable['output_type'] = 'display_data';\n",
              "          await google.colab.output.renderOutput(dataTable, element);\n",
              "          const docLink = document.createElement('div');\n",
              "          docLink.innerHTML = docLinkHtml;\n",
              "          element.appendChild(docLink);\n",
              "        }\n",
              "      </script>\n",
              "    </div>\n",
              "  </div>\n",
              "  "
            ],
            "text/plain": [
              "        Date  Rented Bike Count  Hour  ...  label_day_night  WeekDay     Month\n",
              "0 2017-12-01                254     0  ...            Night   Friday  December\n",
              "1 2017-12-01                204     1  ...            Night   Friday  December\n",
              "2 2017-12-01                173     2  ...            Night   Friday  December\n",
              "3 2017-12-01                107     3  ...            Night   Friday  December\n",
              "4 2017-12-01                 78     4  ...            Night   Friday  December\n",
              "\n",
              "[5 rows x 16 columns]"
            ]
          },
          "metadata": {},
          "execution_count": 17
        }
      ]
    },
    {
      "cell_type": "markdown",
      "metadata": {
        "id": "_sXMLehXsMcx"
      },
      "source": [
        "## Plotting variables to the target "
      ]
    },
    {
      "cell_type": "markdown",
      "metadata": {
        "id": "4GvpUWs9hIoj"
      },
      "source": [
        "#### On this plot, we see a high demand  from april  for bike "
      ]
    },
    {
      "cell_type": "code",
      "metadata": {
        "colab": {
          "base_uri": "https://localhost:8080/",
          "height": 322
        },
        "id": "AL8AWUHusMc1",
        "outputId": "8a3ca38f-5e04-4fa6-d513-fccb57f6a6f0"
      },
      "source": [
        "#plt the barplot between Season vs Rented Bike Count\n",
        "dataSeasons=pd.DataFrame(data.groupby('Seasons').sum()['Rented Bike Count']).plot(kind='bar')"
      ],
      "execution_count": 18,
      "outputs": [
        {
          "output_type": "display_data",
          "data": {
            "image/png": "[encoded data removed]",
            "text/plain": [
              "<Figure size 432x288 with 1 Axes>"
            ]
          },
          "metadata": {
            "needs_background": "light"
          }
        }
      ]
    },
    {
      "cell_type": "markdown",
      "metadata": {
        "id": "gerieJpthQTO"
      },
      "source": [
        "###### We can see that as we expected, summer is the season in which we have the more demand"
      ]
    },
    {
      "cell_type": "code",
      "metadata": {
        "colab": {
          "base_uri": "https://localhost:8080/",
          "height": 311
        },
        "id": "s1ZozTbCsMc2",
        "outputId": "80358340-64b3-4654-fabe-41ff600fed17"
      },
      "source": [
        "#plot the bar graph for season vs solar Radiatin\n",
        "dataSolarRadiation=pd.DataFrame(data.groupby('Seasons').sum()['Solar Radiation (MJ/m2)']).plot(kind='bar')"
      ],
      "execution_count": 19,
      "outputs": [
        {
          "output_type": "display_data",
          "data": {
            "image/png": "[encoded data removed]",
            "text/plain": [
              "<Figure size 432x288 with 1 Axes>"
            ]
          },
          "metadata": {
            "needs_background": "light"
          }
        }
      ]
    },
    {
      "cell_type": "markdown",
      "metadata": {
        "id": "gtnGGUPYhXbB"
      },
      "source": [
        "This plot explains the high correlation with the feature 'solar Radiation' and 'Summer'"
      ]
    },
    {
      "cell_type": "code",
      "metadata": {
        "colab": {
          "base_uri": "https://localhost:8080/",
          "height": 266
        },
        "id": "yjlc_rlzsMc3",
        "outputId": "0d1072d8-42bb-405f-a5bd-223b2b4d7632"
      },
      "source": [
        "#plot the pie plot for the season and Rented Bike Count\n",
        "data.groupby('Seasons').sum()['Rented Bike Count'].plot.pie()"
      ],
      "execution_count": 20,
      "outputs": [
        {
          "output_type": "execute_result",
          "data": {
            "text/plain": [
              "<matplotlib.axes._subplots.AxesSubplot at 0x7ff5bc071910>"
            ]
          },
          "metadata": {},
          "execution_count": 20
        },
        {
          "output_type": "display_data",
          "data": {
            "image/png": "[encoded data removed]",
            "text/plain": [
              "<Figure size 432x288 with 1 Axes>"
            ]
          },
          "metadata": {}
        }
      ]
    },
    {
      "cell_type": "code",
      "metadata": {
        "scrolled": true,
        "colab": {
          "base_uri": "https://localhost:8080/",
          "height": 282
        },
        "id": "9KyFgzC-sMc4",
        "outputId": "446fc6d6-7ea3-4966-c1a6-6d640e7519cf"
      },
      "source": [
        "#plot the box plot between solar radiation and rented bike count\n",
        "data.groupby('Solar Radiation (MJ/m2)').mean()['Rented Bike Count'].plot(kind='box')"
      ],
      "execution_count": 21,
      "outputs": [
        {
          "output_type": "execute_result",
          "data": {
            "text/plain": [
              "<matplotlib.axes._subplots.AxesSubplot at 0x7ff5bc07ae50>"
            ]
          },
          "metadata": {},
          "execution_count": 21
        },
        {
          "output_type": "display_data",
          "data": {
            "image/png": "[encoded data removed]",
            "text/plain": [
              "<Figure size 432x288 with 1 Axes>"
            ]
          },
          "metadata": {
            "needs_background": "light"
          }
        }
      ]
    },
    {
      "cell_type": "markdown",
      "metadata": {
        "id": "uEXaG3dZh4Fl"
      },
      "source": [
        "#### Here the amount of rented bikes is huge, when there is solar radiation, the counter of rents is around 1000"
      ]
    },
    {
      "cell_type": "code",
      "metadata": {
        "colab": {
          "base_uri": "https://localhost:8080/",
          "height": 296
        },
        "id": "rE_gVuNZsMc5",
        "outputId": "80ce6287-6323-4357-c9f4-17dca962f121"
      },
      "source": [
        "#plot the line plot for hours and Rented Bike count\n",
        "data.groupby('Hour').sum()['Rented Bike Count'].plot()"
      ],
      "execution_count": 22,
      "outputs": [
        {
          "output_type": "execute_result",
          "data": {
            "text/plain": [
              "<matplotlib.axes._subplots.AxesSubplot at 0x7ff5bbfc00d0>"
            ]
          },
          "metadata": {},
          "execution_count": 22
        },
        {
          "output_type": "display_data",
          "data": {
            "image/png": "[encoded data removed]",
            "text/plain": [
              "<Figure size 432x288 with 1 Axes>"
            ]
          },
          "metadata": {
            "needs_background": "light"
          }
        }
      ]
    },
    {
      "cell_type": "markdown",
      "metadata": {
        "id": "SKBacif6hx09"
      },
      "source": [
        "#### Here we have a repartition of the rents by hour, at the beginning of the day we suppose people go to work and return by bike "
      ]
    },
    {
      "cell_type": "code",
      "metadata": {
        "colab": {
          "base_uri": "https://localhost:8080/",
          "height": 279
        },
        "id": "Wk9xkMJzsMc6",
        "outputId": "c1540844-75e1-4b4d-9f8b-df696cd9d318"
      },
      "source": [
        "#plot theline plot for Weekday and Rented bike count \n",
        "dataDays=pd.DataFrame(data.groupby('WeekDay').sum()['Rented Bike Count']).plot()"
      ],
      "execution_count": 23,
      "outputs": [
        {
          "output_type": "display_data",
          "data": {
            "image/png": "[encoded data removed]",
            "text/plain": [
              "<Figure size 432x288 with 1 Axes>"
            ]
          },
          "metadata": {
            "needs_background": "light"
          }
        }
      ]
    },
    {
      "cell_type": "markdown",
      "metadata": {
        "id": "1RxCR_rrh-mJ"
      },
      "source": [
        "#### Days with highest rented bike are week days\n"
      ]
    },
    {
      "cell_type": "markdown",
      "metadata": {
        "id": "V9OhYEFLsMc7"
      },
      "source": [
        "####  "
      ]
    },
    {
      "cell_type": "code",
      "metadata": {
        "colab": {
          "base_uri": "https://localhost:8080/",
          "height": 298
        },
        "id": "u0t4emNvsMc7",
        "outputId": "afed1d57-79b1-4c03-a3d1-eccce6c13fc0"
      },
      "source": [
        "#line plot graph between temperature and Rented Bike count\n",
        "data.groupby('Temperature(°C)').mean()['Rented Bike Count'].plot()"
      ],
      "execution_count": 24,
      "outputs": [
        {
          "output_type": "execute_result",
          "data": {
            "text/plain": [
              "<matplotlib.axes._subplots.AxesSubplot at 0x7ff5bbf26f50>"
            ]
          },
          "metadata": {},
          "execution_count": 24
        },
        {
          "output_type": "display_data",
          "data": {
            "image/png": "[encoded data removed]",
            "text/plain": [
              "<Figure size 432x288 with 1 Axes>"
            ]
          },
          "metadata": {
            "needs_background": "light"
          }
        }
      ]
    },
    {
      "cell_type": "markdown",
      "metadata": {
        "id": "PGCZW_EiiPgW"
      },
      "source": [
        "####  people like to ride bikes when it is pretty hot around 25°C in average"
      ]
    },
    {
      "cell_type": "markdown",
      "metadata": {
        "id": "FM14bh-esMc8"
      },
      "source": [
        "##### Let's see the repartition of the rents follonwing the moment of the day"
      ]
    },
    {
      "cell_type": "code",
      "metadata": {
        "colab": {
          "base_uri": "https://localhost:8080/",
          "height": 266
        },
        "id": "a5NdPqP5sMc8",
        "outputId": "48eb70d2-8e35-40ed-a7b4-82f259fee1bb"
      },
      "source": [
        "#pie plot graph between label_day_night and Rented Bike count\n",
        "data.groupby('label_day_night').sum()['Rented Bike Count'].plot.pie()"
      ],
      "execution_count": 25,
      "outputs": [
        {
          "output_type": "execute_result",
          "data": {
            "text/plain": [
              "<matplotlib.axes._subplots.AxesSubplot at 0x7ff5bbe85190>"
            ]
          },
          "metadata": {},
          "execution_count": 25
        },
        {
          "output_type": "display_data",
          "data": {
            "image/png": "[encoded data removed]",
            "text/plain": [
              "<Figure size 432x288 with 1 Axes>"
            ]
          },
          "metadata": {}
        }
      ]
    },
    {
      "cell_type": "markdown",
      "metadata": {
        "id": "NGsuSFA3sMc8"
      },
      "source": [
        "#### According to this boxplot there are much more rents during the day than the night \n",
        "As the median for the day is around 600 and the median for the night is around 350"
      ]
    },
    {
      "cell_type": "code",
      "metadata": {
        "colab": {
          "base_uri": "https://localhost:8080/",
          "height": 536
        },
        "id": "42NWGZR7sMc9",
        "outputId": "3234099b-ada4-4737-d3df-ae96db48720c"
      },
      "source": [
        "#Boxplot between day and night vs Rented Bike count\n",
        "boxplotDay_night= data.boxplot(['Rented Bike Count'],by='label_day_night',figsize=(7,7))\n",
        "\n"
      ],
      "execution_count": 26,
      "outputs": [
        {
          "output_type": "stream",
          "name": "stderr",
          "text": [
            "/usr/local/lib/python3.7/dist-packages/matplotlib/cbook/__init__.py:1376: VisibleDeprecationWarning: Creating an ndarray from ragged nested sequences (which is a list-or-tuple of lists-or-tuples-or ndarrays with different lengths or shapes) is deprecated. If you meant to do this, you must specify 'dtype=object' when creating the ndarray.\n",
            "  X = np.atleast_1d(X.T if isinstance(X, np.ndarray) else np.asarray(X))\n"
          ]
        },
        {
          "output_type": "display_data",
          "data": {
            "image/png": "[encoded data removed]",
            "text/plain": [
              "<Figure size 504x504 with 1 Axes>"
            ]
          },
          "metadata": {
            "needs_background": "light"
          }
        }
      ]
    },
    {
      "cell_type": "markdown",
      "metadata": {
        "id": "V-9joG6HsMc9"
      },
      "source": [
        "#### Let's do a visualisation during the holidays\n"
      ]
    },
    {
      "cell_type": "code",
      "metadata": {
        "colab": {
          "base_uri": "https://localhost:8080/",
          "height": 266
        },
        "id": "aUqHLYkBsMc9",
        "outputId": "449db983-a18c-4810-cd3c-2f4e95f5c5ed"
      },
      "source": [
        "#pieplot between holidays vs Rented bike count\n",
        "data.groupby('Holiday').sum()['Rented Bike Count'].plot.pie(radius=0.5)\n"
      ],
      "execution_count": 27,
      "outputs": [
        {
          "output_type": "execute_result",
          "data": {
            "text/plain": [
              "<matplotlib.axes._subplots.AxesSubplot at 0x7ff5bbd4ab10>"
            ]
          },
          "metadata": {},
          "execution_count": 27
        },
        {
          "output_type": "display_data",
          "data": {
            "image/png": "[encoded data removed]",
            "text/plain": [
              "<Figure size 432x288 with 1 Axes>"
            ]
          },
          "metadata": {}
        }
      ]
    },
    {
      "cell_type": "markdown",
      "metadata": {
        "id": "hjSZLj0MsMc-"
      },
      "source": [
        "#### We see that holiday rent are very low so let's see on which period extends holidays\n",
        "it means that there are only 18 days of holidays which is very short. And that explains why the proportion of rents during holiday is low. So we understand that this column is not that important"
      ]
    },
    {
      "cell_type": "markdown",
      "metadata": {
        "id": "ixdl6yF-sMdB"
      },
      "source": [
        "# Step 3 : Modeling\n"
      ]
    },
    {
      "cell_type": "markdown",
      "metadata": {
        "id": "ddXrXx1EsMdC"
      },
      "source": [
        "#### Let's import libraires needed in this modeling part"
      ]
    },
    {
      "cell_type": "code",
      "metadata": {
        "id": "7KHc4VXysMdC"
      },
      "source": [
        "\n",
        "#importing libraries\n",
        "from sklearn.model_selection import train_test_split\n",
        "from sklearn import preprocessing\n",
        "from sklearn import linear_model\n",
        "from sklearn.metrics import r2_score,mean_squared_error\n",
        "from sklearn.linear_model import Ridge\n",
        "from sklearn.model_selection import GridSearchCV\n",
        "from sklearn.linear_model import Lasso\n",
        "from sklearn.svm import SVR\n",
        "from sklearn.tree import DecisionTreeRegressor\n",
        "from sklearn.ensemble import RandomForestRegressor\n",
        "from sklearn.ensemble import ExtraTreesRegressor\n"
      ],
      "execution_count": 28,
      "outputs": []
    },
    {
      "cell_type": "code",
      "source": [
        "temp=data.copy()"
      ],
      "metadata": {
        "id": "dN-nSw4XQ-N8"
      },
      "execution_count": 29,
      "outputs": []
    },
    {
      "cell_type": "code",
      "source": [
        "status = pd.get_dummies(temp['Seasons'], drop_first=True)\n",
        "status1 = pd.get_dummies(temp['Holiday'], drop_first=True)\n",
        "status2 = pd.get_dummies(temp['Functioning Day'], drop_first=True)\n",
        "status3 = pd.get_dummies(temp['WeekDay'], drop_first=True)\n",
        "#status4 = pd.get_dummies(temp['Month'], drop_first=True)\n",
        "status5 = pd.get_dummies(temp['label_day_night'], drop_first=True)"
      ],
      "metadata": {
        "id": "YuRiCdUVRRUu"
      },
      "execution_count": 30,
      "outputs": []
    },
    {
      "cell_type": "code",
      "source": [
        ""
      ],
      "metadata": {
        "id": "cDBbv5M_VSDb"
      },
      "execution_count": 30,
      "outputs": []
    },
    {
      "cell_type": "code",
      "source": [
        "temp=pd.concat([temp,status,status1, status2, status3, status5], axis =1)"
      ],
      "metadata": {
        "id": "EVo7qcKoRoTj"
      },
      "execution_count": 31,
      "outputs": []
    },
    {
      "cell_type": "code",
      "source": [
        "temp.head()"
      ],
      "metadata": {
        "colab": {
          "base_uri": "https://localhost:8080/",
          "height": 391
        },
        "id": "Iz6NyCbYRtBG",
        "outputId": "1ab93098-aa75-438a-aa64-8c2a7e74b3b2"
      },
      "execution_count": 32,
      "outputs": [
        {
          "output_type": "execute_result",
          "data": {
            "text/html": [
              "\n",
              "  <div id=\"df-b75f4f73-1aee-4118-9267-3f2ebe2b0a4a\">\n",
              "    <div class=\"colab-df-container\">\n",
              "      <div>\n",
              "<style scoped>\n",
              "    .dataframe tbody tr th:only-of-type {\n",
              "        vertical-align: middle;\n",
              "    }\n",
              "\n",
              "    .dataframe tbody tr th {\n",
              "        vertical-align: top;\n",
              "    }\n",
              "\n",
              "    .dataframe thead th {\n",
              "        text-align: right;\n",
              "    }\n",
              "</style>\n",
              "<table border=\"1\" class=\"dataframe\">\n",
              "  <thead>\n",
              "    <tr style=\"text-align: right;\">\n",
              "      <th></th>\n",
              "      <th>Date</th>\n",
              "      <th>Rented Bike Count</th>\n",
              "      <th>Hour</th>\n",
              "      <th>Temperature(°C)</th>\n",
              "      <th>Humidity(%)</th>\n",
              "      <th>Wind speed (m/s)</th>\n",
              "      <th>Visibility (10m)</th>\n",
              "      <th>Solar Radiation (MJ/m2)</th>\n",
              "      <th>Rainfall(mm)</th>\n",
              "      <th>Snowfall (cm)</th>\n",
              "      <th>Seasons</th>\n",
              "      <th>Holiday</th>\n",
              "      <th>Functioning Day</th>\n",
              "      <th>label_day_night</th>\n",
              "      <th>WeekDay</th>\n",
              "      <th>Month</th>\n",
              "      <th>Spring</th>\n",
              "      <th>Summer</th>\n",
              "      <th>Winter</th>\n",
              "      <th>No Holiday</th>\n",
              "      <th>Yes</th>\n",
              "      <th>Monday</th>\n",
              "      <th>Saturday</th>\n",
              "      <th>Sunday</th>\n",
              "      <th>Thursday</th>\n",
              "      <th>Tuesday</th>\n",
              "      <th>Wednesday</th>\n",
              "      <th>Night</th>\n",
              "    </tr>\n",
              "  </thead>\n",
              "  <tbody>\n",
              "    <tr>\n",
              "      <th>0</th>\n",
              "      <td>2017-12-01</td>\n",
              "      <td>254</td>\n",
              "      <td>0</td>\n",
              "      <td>-5.2</td>\n",
              "      <td>37</td>\n",
              "      <td>2.2</td>\n",
              "      <td>2000</td>\n",
              "      <td>0.0</td>\n",
              "      <td>0.0</td>\n",
              "      <td>0.0</td>\n",
              "      <td>Winter</td>\n",
              "      <td>No Holiday</td>\n",
              "      <td>Yes</td>\n",
              "      <td>Night</td>\n",
              "      <td>Friday</td>\n",
              "      <td>December</td>\n",
              "      <td>0</td>\n",
              "      <td>0</td>\n",
              "      <td>1</td>\n",
              "      <td>1</td>\n",
              "      <td>1</td>\n",
              "      <td>0</td>\n",
              "      <td>0</td>\n",
              "      <td>0</td>\n",
              "      <td>0</td>\n",
              "      <td>0</td>\n",
              "      <td>0</td>\n",
              "      <td>1</td>\n",
              "    </tr>\n",
              "    <tr>\n",
              "      <th>1</th>\n",
              "      <td>2017-12-01</td>\n",
              "      <td>204</td>\n",
              "      <td>1</td>\n",
              "      <td>-5.5</td>\n",
              "      <td>38</td>\n",
              "      <td>0.8</td>\n",
              "      <td>2000</td>\n",
              "      <td>0.0</td>\n",
              "      <td>0.0</td>\n",
              "      <td>0.0</td>\n",
              "      <td>Winter</td>\n",
              "      <td>No Holiday</td>\n",
              "      <td>Yes</td>\n",
              "      <td>Night</td>\n",
              "      <td>Friday</td>\n",
              "      <td>December</td>\n",
              "      <td>0</td>\n",
              "      <td>0</td>\n",
              "      <td>1</td>\n",
              "      <td>1</td>\n",
              "      <td>1</td>\n",
              "      <td>0</td>\n",
              "      <td>0</td>\n",
              "      <td>0</td>\n",
              "      <td>0</td>\n",
              "      <td>0</td>\n",
              "      <td>0</td>\n",
              "      <td>1</td>\n",
              "    </tr>\n",
              "    <tr>\n",
              "      <th>2</th>\n",
              "      <td>2017-12-01</td>\n",
              "      <td>173</td>\n",
              "      <td>2</td>\n",
              "      <td>-6.0</td>\n",
              "      <td>39</td>\n",
              "      <td>1.0</td>\n",
              "      <td>2000</td>\n",
              "      <td>0.0</td>\n",
              "      <td>0.0</td>\n",
              "      <td>0.0</td>\n",
              "      <td>Winter</td>\n",
              "      <td>No Holiday</td>\n",
              "      <td>Yes</td>\n",
              "      <td>Night</td>\n",
              "      <td>Friday</td>\n",
              "      <td>December</td>\n",
              "      <td>0</td>\n",
              "      <td>0</td>\n",
              "      <td>1</td>\n",
              "      <td>1</td>\n",
              "      <td>1</td>\n",
              "      <td>0</td>\n",
              "      <td>0</td>\n",
              "      <td>0</td>\n",
              "      <td>0</td>\n",
              "      <td>0</td>\n",
              "      <td>0</td>\n",
              "      <td>1</td>\n",
              "    </tr>\n",
              "    <tr>\n",
              "      <th>3</th>\n",
              "      <td>2017-12-01</td>\n",
              "      <td>107</td>\n",
              "      <td>3</td>\n",
              "      <td>-6.2</td>\n",
              "      <td>40</td>\n",
              "      <td>0.9</td>\n",
              "      <td>2000</td>\n",
              "      <td>0.0</td>\n",
              "      <td>0.0</td>\n",
              "      <td>0.0</td>\n",
              "      <td>Winter</td>\n",
              "      <td>No Holiday</td>\n",
              "      <td>Yes</td>\n",
              "      <td>Night</td>\n",
              "      <td>Friday</td>\n",
              "      <td>December</td>\n",
              "      <td>0</td>\n",
              "      <td>0</td>\n",
              "      <td>1</td>\n",
              "      <td>1</td>\n",
              "      <td>1</td>\n",
              "      <td>0</td>\n",
              "      <td>0</td>\n",
              "      <td>0</td>\n",
              "      <td>0</td>\n",
              "      <td>0</td>\n",
              "      <td>0</td>\n",
              "      <td>1</td>\n",
              "    </tr>\n",
              "    <tr>\n",
              "      <th>4</th>\n",
              "      <td>2017-12-01</td>\n",
              "      <td>78</td>\n",
              "      <td>4</td>\n",
              "      <td>-6.0</td>\n",
              "      <td>36</td>\n",
              "      <td>2.3</td>\n",
              "      <td>2000</td>\n",
              "      <td>0.0</td>\n",
              "      <td>0.0</td>\n",
              "      <td>0.0</td>\n",
              "      <td>Winter</td>\n",
              "      <td>No Holiday</td>\n",
              "      <td>Yes</td>\n",
              "      <td>Night</td>\n",
              "      <td>Friday</td>\n",
              "      <td>December</td>\n",
              "      <td>0</td>\n",
              "      <td>0</td>\n",
              "      <td>1</td>\n",
              "      <td>1</td>\n",
              "      <td>1</td>\n",
              "      <td>0</td>\n",
              "      <td>0</td>\n",
              "      <td>0</td>\n",
              "      <td>0</td>\n",
              "      <td>0</td>\n",
              "      <td>0</td>\n",
              "      <td>1</td>\n",
              "    </tr>\n",
              "  </tbody>\n",
              "</table>\n",
              "</div>\n",
              "      <button class=\"colab-df-convert\" onclick=\"convertToInteractive('df-b75f4f73-1aee-4118-9267-3f2ebe2b0a4a')\"\n",
              "              title=\"Convert this dataframe to an interactive table.\"\n",
              "              style=\"display:none;\">\n",
              "        \n",
              "  <svg xmlns=\"http://www.w3.org/2000/svg\" height=\"24px\"viewBox=\"0 0 24 24\"\n",
              "       width=\"24px\">\n",
              "    <path d=\"M0 0h24v24H0V0z\" fill=\"none\"/>\n",
              "    <path d=\"M18.56 5.44l.94 2.06.94-2.06 2.06-.94-2.06-.94-.94-2.06-.94 2.06-2.06.94zm-11 1L8.5 8.5l.94-2.06 2.06-.94-2.06-.94L8.5 2.5l-.94 2.06-2.06.94zm10 10l.94 2.06.94-2.06 2.06-.94-2.06-.94-.94-2.06-.94 2.06-2.06.94z\"/><path d=\"M17.41 7.96l-1.37-1.37c-.4-.4-.92-.59-1.43-.59-.52 0-1.04.2-1.43.59L10.3 9.45l-7.72 7.72c-.78.78-.78 2.05 0 2.83L4 21.41c.39.39.9.59 1.41.59.51 0 1.02-.2 1.41-.59l7.78-7.78 2.81-2.81c.8-.78.8-2.07 0-2.86zM5.41 20L4 18.59l7.72-7.72 1.47 1.35L5.41 20z\"/>\n",
              "  </svg>\n",
              "      </button>\n",
              "      \n",
              "  <style>\n",
              "    .colab-df-container {\n",
              "      display:flex;\n",
              "      flex-wrap:wrap;\n",
              "      gap: 12px;\n",
              "    }\n",
              "\n",
              "    .colab-df-convert {\n",
              "      background-color: #E8F0FE;\n",
              "      border: none;\n",
              "      border-radius: 50%;\n",
              "      cursor: pointer;\n",
              "      display: none;\n",
              "      fill: #1967D2;\n",
              "      height: 32px;\n",
              "      padding: 0 0 0 0;\n",
              "      width: 32px;\n",
              "    }\n",
              "\n",
              "    .colab-df-convert:hover {\n",
              "      background-color: #E2EBFA;\n",
              "      box-shadow: 0px 1px 2px rgba(60, 64, 67, 0.3), 0px 1px 3px 1px rgba(60, 64, 67, 0.15);\n",
              "      fill: #174EA6;\n",
              "    }\n",
              "\n",
              "    [theme=dark] .colab-df-convert {\n",
              "      background-color: #3B4455;\n",
              "      fill: #D2E3FC;\n",
              "    }\n",
              "\n",
              "    [theme=dark] .colab-df-convert:hover {\n",
              "      background-color: #434B5C;\n",
              "      box-shadow: 0px 1px 3px 1px rgba(0, 0, 0, 0.15);\n",
              "      filter: drop-shadow(0px 1px 2px rgba(0, 0, 0, 0.3));\n",
              "      fill: #FFFFFF;\n",
              "    }\n",
              "  </style>\n",
              "\n",
              "      <script>\n",
              "        const buttonEl =\n",
              "          document.querySelector('#df-b75f4f73-1aee-4118-9267-3f2ebe2b0a4a button.colab-df-convert');\n",
              "        buttonEl.style.display =\n",
              "          google.colab.kernel.accessAllowed ? 'block' : 'none';\n",
              "\n",
              "        async function convertToInteractive(key) {\n",
              "          const element = document.querySelector('#df-b75f4f73-1aee-4118-9267-3f2ebe2b0a4a');\n",
              "          const dataTable =\n",
              "            await google.colab.kernel.invokeFunction('convertToInteractive',\n",
              "                                                     [key], {});\n",
              "          if (!dataTable) return;\n",
              "\n",
              "          const docLinkHtml = 'Like what you see? Visit the ' +\n",
              "            '<a target=\"_blank\" href=https://colab.research.google.com/notebooks/data_table.ipynb>data table notebook</a>'\n",
              "            + ' to learn more about interactive tables.';\n",
              "          element.innerHTML = '';\n",
              "          dataTable['output_type'] = 'display_data';\n",
              "          await google.colab.output.renderOutput(dataTable, element);\n",
              "          const docLink = document.createElement('div');\n",
              "          docLink.innerHTML = docLinkHtml;\n",
              "          element.appendChild(docLink);\n",
              "        }\n",
              "      </script>\n",
              "    </div>\n",
              "  </div>\n",
              "  "
            ],
            "text/plain": [
              "        Date  Rented Bike Count  Hour  ...  Tuesday  Wednesday  Night\n",
              "0 2017-12-01                254     0  ...        0          0      1\n",
              "1 2017-12-01                204     1  ...        0          0      1\n",
              "2 2017-12-01                173     2  ...        0          0      1\n",
              "3 2017-12-01                107     3  ...        0          0      1\n",
              "4 2017-12-01                 78     4  ...        0          0      1\n",
              "\n",
              "[5 rows x 28 columns]"
            ]
          },
          "metadata": {},
          "execution_count": 32
        }
      ]
    },
    {
      "cell_type": "code",
      "source": [
        "from sklearn.preprocessing import MinMaxScaler\n",
        "num_vars = ['Temperature(°C)', 'Hour', 'Humidity(%)', 'Rented Bike Count',\"Wind speed (m/s)\",\"Visibility (10m)\",\"Rainfall(mm)\",\"Snowfall (cm)\"]\n",
        "scaler = MinMaxScaler()\n",
        "temp[num_vars] = scaler.fit_transform(temp[num_vars])\n",
        "temp.head()"
      ],
      "metadata": {
        "colab": {
          "base_uri": "https://localhost:8080/",
          "height": 391
        },
        "id": "InZVohu3SpVB",
        "outputId": "e0758410-783b-4486-9cdd-f23f8092373b"
      },
      "execution_count": 33,
      "outputs": [
        {
          "output_type": "execute_result",
          "data": {
            "text/html": [
              "\n",
              "  <div id=\"df-ee79d9bd-6ea9-4c07-bdee-ad786522af35\">\n",
              "    <div class=\"colab-df-container\">\n",
              "      <div>\n",
              "<style scoped>\n",
              "    .dataframe tbody tr th:only-of-type {\n",
              "        vertical-align: middle;\n",
              "    }\n",
              "\n",
              "    .dataframe tbody tr th {\n",
              "        vertical-align: top;\n",
              "    }\n",
              "\n",
              "    .dataframe thead th {\n",
              "        text-align: right;\n",
              "    }\n",
              "</style>\n",
              "<table border=\"1\" class=\"dataframe\">\n",
              "  <thead>\n",
              "    <tr style=\"text-align: right;\">\n",
              "      <th></th>\n",
              "      <th>Date</th>\n",
              "      <th>Rented Bike Count</th>\n",
              "      <th>Hour</th>\n",
              "      <th>Temperature(°C)</th>\n",
              "      <th>Humidity(%)</th>\n",
              "      <th>Wind speed (m/s)</th>\n",
              "      <th>Visibility (10m)</th>\n",
              "      <th>Solar Radiation (MJ/m2)</th>\n",
              "      <th>Rainfall(mm)</th>\n",
              "      <th>Snowfall (cm)</th>\n",
              "      <th>Seasons</th>\n",
              "      <th>Holiday</th>\n",
              "      <th>Functioning Day</th>\n",
              "      <th>label_day_night</th>\n",
              "      <th>WeekDay</th>\n",
              "      <th>Month</th>\n",
              "      <th>Spring</th>\n",
              "      <th>Summer</th>\n",
              "      <th>Winter</th>\n",
              "      <th>No Holiday</th>\n",
              "      <th>Yes</th>\n",
              "      <th>Monday</th>\n",
              "      <th>Saturday</th>\n",
              "      <th>Sunday</th>\n",
              "      <th>Thursday</th>\n",
              "      <th>Tuesday</th>\n",
              "      <th>Wednesday</th>\n",
              "      <th>Night</th>\n",
              "    </tr>\n",
              "  </thead>\n",
              "  <tbody>\n",
              "    <tr>\n",
              "      <th>0</th>\n",
              "      <td>2017-12-01</td>\n",
              "      <td>0.071429</td>\n",
              "      <td>0.000000</td>\n",
              "      <td>0.220280</td>\n",
              "      <td>0.377551</td>\n",
              "      <td>0.297297</td>\n",
              "      <td>1.0</td>\n",
              "      <td>0.0</td>\n",
              "      <td>0.0</td>\n",
              "      <td>0.0</td>\n",
              "      <td>Winter</td>\n",
              "      <td>No Holiday</td>\n",
              "      <td>Yes</td>\n",
              "      <td>Night</td>\n",
              "      <td>Friday</td>\n",
              "      <td>December</td>\n",
              "      <td>0</td>\n",
              "      <td>0</td>\n",
              "      <td>1</td>\n",
              "      <td>1</td>\n",
              "      <td>1</td>\n",
              "      <td>0</td>\n",
              "      <td>0</td>\n",
              "      <td>0</td>\n",
              "      <td>0</td>\n",
              "      <td>0</td>\n",
              "      <td>0</td>\n",
              "      <td>1</td>\n",
              "    </tr>\n",
              "    <tr>\n",
              "      <th>1</th>\n",
              "      <td>2017-12-01</td>\n",
              "      <td>0.057368</td>\n",
              "      <td>0.043478</td>\n",
              "      <td>0.215035</td>\n",
              "      <td>0.387755</td>\n",
              "      <td>0.108108</td>\n",
              "      <td>1.0</td>\n",
              "      <td>0.0</td>\n",
              "      <td>0.0</td>\n",
              "      <td>0.0</td>\n",
              "      <td>Winter</td>\n",
              "      <td>No Holiday</td>\n",
              "      <td>Yes</td>\n",
              "      <td>Night</td>\n",
              "      <td>Friday</td>\n",
              "      <td>December</td>\n",
              "      <td>0</td>\n",
              "      <td>0</td>\n",
              "      <td>1</td>\n",
              "      <td>1</td>\n",
              "      <td>1</td>\n",
              "      <td>0</td>\n",
              "      <td>0</td>\n",
              "      <td>0</td>\n",
              "      <td>0</td>\n",
              "      <td>0</td>\n",
              "      <td>0</td>\n",
              "      <td>1</td>\n",
              "    </tr>\n",
              "    <tr>\n",
              "      <th>2</th>\n",
              "      <td>2017-12-01</td>\n",
              "      <td>0.048650</td>\n",
              "      <td>0.086957</td>\n",
              "      <td>0.206294</td>\n",
              "      <td>0.397959</td>\n",
              "      <td>0.135135</td>\n",
              "      <td>1.0</td>\n",
              "      <td>0.0</td>\n",
              "      <td>0.0</td>\n",
              "      <td>0.0</td>\n",
              "      <td>Winter</td>\n",
              "      <td>No Holiday</td>\n",
              "      <td>Yes</td>\n",
              "      <td>Night</td>\n",
              "      <td>Friday</td>\n",
              "      <td>December</td>\n",
              "      <td>0</td>\n",
              "      <td>0</td>\n",
              "      <td>1</td>\n",
              "      <td>1</td>\n",
              "      <td>1</td>\n",
              "      <td>0</td>\n",
              "      <td>0</td>\n",
              "      <td>0</td>\n",
              "      <td>0</td>\n",
              "      <td>0</td>\n",
              "      <td>0</td>\n",
              "      <td>1</td>\n",
              "    </tr>\n",
              "    <tr>\n",
              "      <th>3</th>\n",
              "      <td>2017-12-01</td>\n",
              "      <td>0.030090</td>\n",
              "      <td>0.130435</td>\n",
              "      <td>0.202797</td>\n",
              "      <td>0.408163</td>\n",
              "      <td>0.121622</td>\n",
              "      <td>1.0</td>\n",
              "      <td>0.0</td>\n",
              "      <td>0.0</td>\n",
              "      <td>0.0</td>\n",
              "      <td>Winter</td>\n",
              "      <td>No Holiday</td>\n",
              "      <td>Yes</td>\n",
              "      <td>Night</td>\n",
              "      <td>Friday</td>\n",
              "      <td>December</td>\n",
              "      <td>0</td>\n",
              "      <td>0</td>\n",
              "      <td>1</td>\n",
              "      <td>1</td>\n",
              "      <td>1</td>\n",
              "      <td>0</td>\n",
              "      <td>0</td>\n",
              "      <td>0</td>\n",
              "      <td>0</td>\n",
              "      <td>0</td>\n",
              "      <td>0</td>\n",
              "      <td>1</td>\n",
              "    </tr>\n",
              "    <tr>\n",
              "      <th>4</th>\n",
              "      <td>2017-12-01</td>\n",
              "      <td>0.021935</td>\n",
              "      <td>0.173913</td>\n",
              "      <td>0.206294</td>\n",
              "      <td>0.367347</td>\n",
              "      <td>0.310811</td>\n",
              "      <td>1.0</td>\n",
              "      <td>0.0</td>\n",
              "      <td>0.0</td>\n",
              "      <td>0.0</td>\n",
              "      <td>Winter</td>\n",
              "      <td>No Holiday</td>\n",
              "      <td>Yes</td>\n",
              "      <td>Night</td>\n",
              "      <td>Friday</td>\n",
              "      <td>December</td>\n",
              "      <td>0</td>\n",
              "      <td>0</td>\n",
              "      <td>1</td>\n",
              "      <td>1</td>\n",
              "      <td>1</td>\n",
              "      <td>0</td>\n",
              "      <td>0</td>\n",
              "      <td>0</td>\n",
              "      <td>0</td>\n",
              "      <td>0</td>\n",
              "      <td>0</td>\n",
              "      <td>1</td>\n",
              "    </tr>\n",
              "  </tbody>\n",
              "</table>\n",
              "</div>\n",
              "      <button class=\"colab-df-convert\" onclick=\"convertToInteractive('df-ee79d9bd-6ea9-4c07-bdee-ad786522af35')\"\n",
              "              title=\"Convert this dataframe to an interactive table.\"\n",
              "              style=\"display:none;\">\n",
              "        \n",
              "  <svg xmlns=\"http://www.w3.org/2000/svg\" height=\"24px\"viewBox=\"0 0 24 24\"\n",
              "       width=\"24px\">\n",
              "    <path d=\"M0 0h24v24H0V0z\" fill=\"none\"/>\n",
              "    <path d=\"M18.56 5.44l.94 2.06.94-2.06 2.06-.94-2.06-.94-.94-2.06-.94 2.06-2.06.94zm-11 1L8.5 8.5l.94-2.06 2.06-.94-2.06-.94L8.5 2.5l-.94 2.06-2.06.94zm10 10l.94 2.06.94-2.06 2.06-.94-2.06-.94-.94-2.06-.94 2.06-2.06.94z\"/><path d=\"M17.41 7.96l-1.37-1.37c-.4-.4-.92-.59-1.43-.59-.52 0-1.04.2-1.43.59L10.3 9.45l-7.72 7.72c-.78.78-.78 2.05 0 2.83L4 21.41c.39.39.9.59 1.41.59.51 0 1.02-.2 1.41-.59l7.78-7.78 2.81-2.81c.8-.78.8-2.07 0-2.86zM5.41 20L4 18.59l7.72-7.72 1.47 1.35L5.41 20z\"/>\n",
              "  </svg>\n",
              "      </button>\n",
              "      \n",
              "  <style>\n",
              "    .colab-df-container {\n",
              "      display:flex;\n",
              "      flex-wrap:wrap;\n",
              "      gap: 12px;\n",
              "    }\n",
              "\n",
              "    .colab-df-convert {\n",
              "      background-color: #E8F0FE;\n",
              "      border: none;\n",
              "      border-radius: 50%;\n",
              "      cursor: pointer;\n",
              "      display: none;\n",
              "      fill: #1967D2;\n",
              "      height: 32px;\n",
              "      padding: 0 0 0 0;\n",
              "      width: 32px;\n",
              "    }\n",
              "\n",
              "    .colab-df-convert:hover {\n",
              "      background-color: #E2EBFA;\n",
              "      box-shadow: 0px 1px 2px rgba(60, 64, 67, 0.3), 0px 1px 3px 1px rgba(60, 64, 67, 0.15);\n",
              "      fill: #174EA6;\n",
              "    }\n",
              "\n",
              "    [theme=dark] .colab-df-convert {\n",
              "      background-color: #3B4455;\n",
              "      fill: #D2E3FC;\n",
              "    }\n",
              "\n",
              "    [theme=dark] .colab-df-convert:hover {\n",
              "      background-color: #434B5C;\n",
              "      box-shadow: 0px 1px 3px 1px rgba(0, 0, 0, 0.15);\n",
              "      filter: drop-shadow(0px 1px 2px rgba(0, 0, 0, 0.3));\n",
              "      fill: #FFFFFF;\n",
              "    }\n",
              "  </style>\n",
              "\n",
              "      <script>\n",
              "        const buttonEl =\n",
              "          document.querySelector('#df-ee79d9bd-6ea9-4c07-bdee-ad786522af35 button.colab-df-convert');\n",
              "        buttonEl.style.display =\n",
              "          google.colab.kernel.accessAllowed ? 'block' : 'none';\n",
              "\n",
              "        async function convertToInteractive(key) {\n",
              "          const element = document.querySelector('#df-ee79d9bd-6ea9-4c07-bdee-ad786522af35');\n",
              "          const dataTable =\n",
              "            await google.colab.kernel.invokeFunction('convertToInteractive',\n",
              "                                                     [key], {});\n",
              "          if (!dataTable) return;\n",
              "\n",
              "          const docLinkHtml = 'Like what you see? Visit the ' +\n",
              "            '<a target=\"_blank\" href=https://colab.research.google.com/notebooks/data_table.ipynb>data table notebook</a>'\n",
              "            + ' to learn more about interactive tables.';\n",
              "          element.innerHTML = '';\n",
              "          dataTable['output_type'] = 'display_data';\n",
              "          await google.colab.output.renderOutput(dataTable, element);\n",
              "          const docLink = document.createElement('div');\n",
              "          docLink.innerHTML = docLinkHtml;\n",
              "          element.appendChild(docLink);\n",
              "        }\n",
              "      </script>\n",
              "    </div>\n",
              "  </div>\n",
              "  "
            ],
            "text/plain": [
              "        Date  Rented Bike Count      Hour  ...  Tuesday  Wednesday  Night\n",
              "0 2017-12-01           0.071429  0.000000  ...        0          0      1\n",
              "1 2017-12-01           0.057368  0.043478  ...        0          0      1\n",
              "2 2017-12-01           0.048650  0.086957  ...        0          0      1\n",
              "3 2017-12-01           0.030090  0.130435  ...        0          0      1\n",
              "4 2017-12-01           0.021935  0.173913  ...        0          0      1\n",
              "\n",
              "[5 rows x 28 columns]"
            ]
          },
          "metadata": {},
          "execution_count": 33
        }
      ]
    },
    {
      "cell_type": "code",
      "metadata": {
        "id": "Fm8228UxsMdD"
      },
      "source": [
        "#Create an dictionary to report results\n",
        "reporting={}"
      ],
      "execution_count": 34,
      "outputs": []
    },
    {
      "cell_type": "code",
      "metadata": {
        "id": "Qee9rtqUsMdD"
      },
      "source": [
        "#Dropping the some variables\n",
        "X_MultipleLinearRegression=temp.drop(['Rented Bike Count','Date','Seasons','Holiday','label_day_night','Functioning Day','WeekDay',\"Month\"],axis =1)\n",
        "y=temp.iloc[:,1] #the target\n"
      ],
      "execution_count": 35,
      "outputs": []
    },
    {
      "cell_type": "code",
      "metadata": {
        "id": "VR02EUNosMdD"
      },
      "source": [
        "#split the data into train and test data\n",
        "X_train,X_test,y_train,y_test=train_test_split(X_MultipleLinearRegression,y,test_size=0.27)"
      ],
      "execution_count": 36,
      "outputs": []
    },
    {
      "cell_type": "markdown",
      "metadata": {
        "id": "1yEB3vdgsMdE"
      },
      "source": [
        "## Linear Regression "
      ]
    },
    {
      "cell_type": "code",
      "metadata": {
        "id": "Yr090jaJsMdE"
      },
      "source": [
        "\n",
        "#train and predict the testing data with linear regression model \n",
        "regr = linear_model.LinearRegression()\n",
        "fitregr=regr.fit(X_train, y_train)\n",
        "predregrtrain=fitregr.predict(X_train)\n",
        "predregrtest=fitregr.predict(X_test)"
      ],
      "execution_count": 37,
      "outputs": []
    },
    {
      "cell_type": "markdown",
      "metadata": {
        "id": "hSoMovhmsMdG"
      },
      "source": [
        "After fitting the model, we print the score between predictions and test targets"
      ]
    },
    {
      "cell_type": "code",
      "metadata": {
        "colab": {
          "base_uri": "https://localhost:8080/"
        },
        "id": "9q7bIh6hsMdG",
        "outputId": "c456442d-baca-485d-d802-8d27dcb14159"
      },
      "source": [
        "#Evaluating the scores\n",
        "train_set_rmse = (np.sqrt(mean_squared_error(predregrtrain,y_train )))\n",
        "train_set_r2 = r2_score(y_train, predregrtrain)\n",
        "print('Linear model, R2 train score is : {} and the train root mean square is: {}'\n",
        "     .format(train_set_r2,train_set_rmse))\n",
        "\n",
        "test_set_rmse = (np.sqrt(mean_squared_error(predregrtest,y_test )))\n",
        "test_set_r2 = r2_score(y_test, predregrtest)\n",
        "print('Linear model, R2 test score is : {} and the test root mean square is: {}'\n",
        "     .format(test_set_r2,test_set_rmse))"
      ],
      "execution_count": 38,
      "outputs": [
        {
          "output_type": "stream",
          "name": "stdout",
          "text": [
            "Linear model, R2 train score is : 0.5539682739013183 and the train root mean square is: 0.12094613496928795\n",
            "Linear model, R2 test score is : 0.5780645313707398 and the test root mean square is: 0.11828624457059882\n"
          ]
        }
      ]
    },
    {
      "cell_type": "code",
      "metadata": {
        "id": "gCimAp8jsMdH"
      },
      "source": [
        "#Storing the result data for regression model \n",
        "reporting['Linear regression']=test_set_r2"
      ],
      "execution_count": 39,
      "outputs": []
    },
    {
      "cell_type": "markdown",
      "metadata": {
        "id": "I0cp5016sMdS"
      },
      "source": [
        "## Decision Tree Regressor\n",
        "We first need to standartize data"
      ]
    },
    {
      "cell_type": "code",
      "metadata": {
        "id": "RaPPd2kYsMdT"
      },
      "source": [
        "decisionTree = DecisionTreeRegressor()\n",
        "\n",
        "param = {'max_depth' : [1,4,5,6,7,10,15,20,8]}\n",
        "\n",
        "gridSearch_decisionTree=GridSearchCV(decisionTree,param,scoring='r2',cv=6)\n",
        "gridSearch_decisionTree.fit(X_train,y_train)\n",
        "\n",
        "\n",
        "best_DecisionTree=gridSearch_decisionTree.best_estimator_\n",
        "bestDecisionTree_testScore=best_DecisionTree.score(X_test,y_test)"
      ],
      "execution_count": 49,
      "outputs": []
    },
    {
      "cell_type": "code",
      "metadata": {
        "colab": {
          "base_uri": "https://localhost:8080/"
        },
        "id": "_4JVqMrVsMdT",
        "outputId": "47518286-bd74-4cff-b803-4e5e167440fb"
      },
      "source": [
        "#predicting the scores\n",
        "print('The best Decision Tree R2 score is : {:.2f} with max depth = {:.2f} \\n \\\n",
        "'.format(gridSearch_decisionTree.best_score_,gridSearch_decisionTree.best_params_['max_depth'] ))\n",
        "print('The best R2 test score is : {:.2f}\\n with max depth = {:.2f}\\n \\\n",
        "'.format(bestDecisionTree_testScore,gridSearch_decisionTree.best_params_['max_depth']))"
      ],
      "execution_count": 50,
      "outputs": [
        {
          "output_type": "stream",
          "name": "stdout",
          "text": [
            "The best Decision Tree R2 score is : 0.84 with max depth = 15.00 \n",
            " \n",
            "The best R2 test score is : 0.88\n",
            " with max depth = 15.00\n",
            " \n"
          ]
        }
      ]
    },
    {
      "cell_type": "code",
      "metadata": {
        "id": "MY7gWzOAsMdU"
      },
      "source": [
        "#storing the result data of Desicion tree\n",
        "reporting['Decision Tree Regressor']=bestDecisionTree_testScore"
      ],
      "execution_count": 51,
      "outputs": []
    },
    {
      "cell_type": "markdown",
      "source": [
        "#Gradient Boosting Algorithm"
      ],
      "metadata": {
        "id": "ZmvTi-l0ligb"
      }
    },
    {
      "cell_type": "code",
      "source": [
        "from sklearn.ensemble import GradientBoostingRegressor\n",
        "from sklearn.model_selection import GridSearchCV"
      ],
      "metadata": {
        "id": "b5jr4v1sjasi"
      },
      "execution_count": 55,
      "outputs": []
    },
    {
      "cell_type": "code",
      "source": [
        "#number of trees\n",
        "n_estimators = [100,120]\n",
        "\n",
        "#Maximum depth of tree\n",
        "max_depth = [6,8]\n",
        "\n",
        "# Minimum number of samples required to split a node\n",
        "min_samples_split = [50,100]\n",
        "\n",
        "# Minimum number of samples required at each leaf node\n",
        "min_samples_leaf = [40,50]\n",
        "\n",
        "param_dict = {'n_estimators' : n_estimators,'max_depth' : max_depth,'min_samples_split' : min_samples_split,'min_samples_leaf' : min_samples_leaf}"
      ],
      "metadata": {
        "id": "TZ_pOJecjdiq"
      },
      "execution_count": 56,
      "outputs": []
    },
    {
      "cell_type": "code",
      "source": [
        "gboost= GradientBoostingRegressor()\n",
        "gb_grid =GridSearchCV(estimator=gboost, param_grid = param_dict,cv = 5, verbose=2)\n",
        "gb_grid.fit(X_train,y_train)"
      ],
      "metadata": {
        "colab": {
          "base_uri": "https://localhost:8080/"
        },
        "id": "4h73goD0jmWk",
        "outputId": "03e1ae94-867e-4f2b-e38c-286e9fd79818"
      },
      "execution_count": 57,
      "outputs": [
        {
          "output_type": "stream",
          "name": "stdout",
          "text": [
            "Fitting 5 folds for each of 16 candidates, totalling 80 fits\n",
            "[CV] END max_depth=6, min_samples_leaf=40, min_samples_split=50, n_estimators=100; total time=   3.1s\n",
            "[CV] END max_depth=6, min_samples_leaf=40, min_samples_split=50, n_estimators=100; total time=   3.3s\n",
            "[CV] END max_depth=6, min_samples_leaf=40, min_samples_split=50, n_estimators=100; total time=   2.3s\n",
            "[CV] END max_depth=6, min_samples_leaf=40, min_samples_split=50, n_estimators=100; total time=   1.9s\n",
            "[CV] END max_depth=6, min_samples_leaf=40, min_samples_split=50, n_estimators=100; total time=   1.9s\n",
            "[CV] END max_depth=6, min_samples_leaf=40, min_samples_split=50, n_estimators=120; total time=   1.7s\n",
            "[CV] END max_depth=6, min_samples_leaf=40, min_samples_split=50, n_estimators=120; total time=   1.6s\n",
            "[CV] END max_depth=6, min_samples_leaf=40, min_samples_split=50, n_estimators=120; total time=   1.6s\n",
            "[CV] END max_depth=6, min_samples_leaf=40, min_samples_split=50, n_estimators=120; total time=   1.6s\n",
            "[CV] END max_depth=6, min_samples_leaf=40, min_samples_split=50, n_estimators=120; total time=   1.6s\n",
            "[CV] END max_depth=6, min_samples_leaf=40, min_samples_split=100, n_estimators=100; total time=   1.3s\n",
            "[CV] END max_depth=6, min_samples_leaf=40, min_samples_split=100, n_estimators=100; total time=   1.3s\n",
            "[CV] END max_depth=6, min_samples_leaf=40, min_samples_split=100, n_estimators=100; total time=   1.3s\n",
            "[CV] END max_depth=6, min_samples_leaf=40, min_samples_split=100, n_estimators=100; total time=   1.3s\n",
            "[CV] END max_depth=6, min_samples_leaf=40, min_samples_split=100, n_estimators=100; total time=   1.3s\n",
            "[CV] END max_depth=6, min_samples_leaf=40, min_samples_split=100, n_estimators=120; total time=   1.6s\n",
            "[CV] END max_depth=6, min_samples_leaf=40, min_samples_split=100, n_estimators=120; total time=   1.6s\n",
            "[CV] END max_depth=6, min_samples_leaf=40, min_samples_split=100, n_estimators=120; total time=   1.6s\n",
            "[CV] END max_depth=6, min_samples_leaf=40, min_samples_split=100, n_estimators=120; total time=   1.6s\n",
            "[CV] END max_depth=6, min_samples_leaf=40, min_samples_split=100, n_estimators=120; total time=   1.6s\n",
            "[CV] END max_depth=6, min_samples_leaf=50, min_samples_split=50, n_estimators=100; total time=   1.3s\n",
            "[CV] END max_depth=6, min_samples_leaf=50, min_samples_split=50, n_estimators=100; total time=   1.3s\n",
            "[CV] END max_depth=6, min_samples_leaf=50, min_samples_split=50, n_estimators=100; total time=   1.3s\n",
            "[CV] END max_depth=6, min_samples_leaf=50, min_samples_split=50, n_estimators=100; total time=   1.3s\n",
            "[CV] END max_depth=6, min_samples_leaf=50, min_samples_split=50, n_estimators=100; total time=   1.3s\n",
            "[CV] END max_depth=6, min_samples_leaf=50, min_samples_split=50, n_estimators=120; total time=   1.6s\n",
            "[CV] END max_depth=6, min_samples_leaf=50, min_samples_split=50, n_estimators=120; total time=   1.6s\n",
            "[CV] END max_depth=6, min_samples_leaf=50, min_samples_split=50, n_estimators=120; total time=   2.2s\n",
            "[CV] END max_depth=6, min_samples_leaf=50, min_samples_split=50, n_estimators=120; total time=   2.5s\n",
            "[CV] END max_depth=6, min_samples_leaf=50, min_samples_split=50, n_estimators=120; total time=   1.8s\n",
            "[CV] END max_depth=6, min_samples_leaf=50, min_samples_split=100, n_estimators=100; total time=   1.3s\n",
            "[CV] END max_depth=6, min_samples_leaf=50, min_samples_split=100, n_estimators=100; total time=   1.3s\n",
            "[CV] END max_depth=6, min_samples_leaf=50, min_samples_split=100, n_estimators=100; total time=   1.3s\n",
            "[CV] END max_depth=6, min_samples_leaf=50, min_samples_split=100, n_estimators=100; total time=   1.3s\n",
            "[CV] END max_depth=6, min_samples_leaf=50, min_samples_split=100, n_estimators=100; total time=   1.3s\n",
            "[CV] END max_depth=6, min_samples_leaf=50, min_samples_split=100, n_estimators=120; total time=   1.6s\n",
            "[CV] END max_depth=6, min_samples_leaf=50, min_samples_split=100, n_estimators=120; total time=   1.6s\n",
            "[CV] END max_depth=6, min_samples_leaf=50, min_samples_split=100, n_estimators=120; total time=   1.6s\n",
            "[CV] END max_depth=6, min_samples_leaf=50, min_samples_split=100, n_estimators=120; total time=   1.6s\n",
            "[CV] END max_depth=6, min_samples_leaf=50, min_samples_split=100, n_estimators=120; total time=   3.0s\n",
            "[CV] END max_depth=8, min_samples_leaf=40, min_samples_split=50, n_estimators=100; total time=   2.3s\n",
            "[CV] END max_depth=8, min_samples_leaf=40, min_samples_split=50, n_estimators=100; total time=   2.6s\n",
            "[CV] END max_depth=8, min_samples_leaf=40, min_samples_split=50, n_estimators=100; total time=   1.6s\n",
            "[CV] END max_depth=8, min_samples_leaf=40, min_samples_split=50, n_estimators=100; total time=   1.7s\n",
            "[CV] END max_depth=8, min_samples_leaf=40, min_samples_split=50, n_estimators=100; total time=   1.6s\n",
            "[CV] END max_depth=8, min_samples_leaf=40, min_samples_split=50, n_estimators=120; total time=   2.0s\n",
            "[CV] END max_depth=8, min_samples_leaf=40, min_samples_split=50, n_estimators=120; total time=   2.0s\n",
            "[CV] END max_depth=8, min_samples_leaf=40, min_samples_split=50, n_estimators=120; total time=   2.0s\n",
            "[CV] END max_depth=8, min_samples_leaf=40, min_samples_split=50, n_estimators=120; total time=   2.0s\n",
            "[CV] END max_depth=8, min_samples_leaf=40, min_samples_split=50, n_estimators=120; total time=   2.0s\n",
            "[CV] END max_depth=8, min_samples_leaf=40, min_samples_split=100, n_estimators=100; total time=   1.6s\n",
            "[CV] END max_depth=8, min_samples_leaf=40, min_samples_split=100, n_estimators=100; total time=   1.6s\n",
            "[CV] END max_depth=8, min_samples_leaf=40, min_samples_split=100, n_estimators=100; total time=   1.6s\n",
            "[CV] END max_depth=8, min_samples_leaf=40, min_samples_split=100, n_estimators=100; total time=   1.6s\n",
            "[CV] END max_depth=8, min_samples_leaf=40, min_samples_split=100, n_estimators=100; total time=   1.7s\n",
            "[CV] END max_depth=8, min_samples_leaf=40, min_samples_split=100, n_estimators=120; total time=   1.9s\n",
            "[CV] END max_depth=8, min_samples_leaf=40, min_samples_split=100, n_estimators=120; total time=   1.9s\n",
            "[CV] END max_depth=8, min_samples_leaf=40, min_samples_split=100, n_estimators=120; total time=   2.0s\n",
            "[CV] END max_depth=8, min_samples_leaf=40, min_samples_split=100, n_estimators=120; total time=   2.0s\n",
            "[CV] END max_depth=8, min_samples_leaf=40, min_samples_split=100, n_estimators=120; total time=   2.0s\n",
            "[CV] END max_depth=8, min_samples_leaf=50, min_samples_split=50, n_estimators=100; total time=   2.0s\n",
            "[CV] END max_depth=8, min_samples_leaf=50, min_samples_split=50, n_estimators=100; total time=   1.6s\n",
            "[CV] END max_depth=8, min_samples_leaf=50, min_samples_split=50, n_estimators=100; total time=   1.6s\n",
            "[CV] END max_depth=8, min_samples_leaf=50, min_samples_split=50, n_estimators=100; total time=   1.7s\n",
            "[CV] END max_depth=8, min_samples_leaf=50, min_samples_split=50, n_estimators=100; total time=   1.8s\n",
            "[CV] END max_depth=8, min_samples_leaf=50, min_samples_split=50, n_estimators=120; total time=   2.1s\n",
            "[CV] END max_depth=8, min_samples_leaf=50, min_samples_split=50, n_estimators=120; total time=   2.3s\n",
            "[CV] END max_depth=8, min_samples_leaf=50, min_samples_split=50, n_estimators=120; total time=   2.1s\n",
            "[CV] END max_depth=8, min_samples_leaf=50, min_samples_split=50, n_estimators=120; total time=   1.9s\n",
            "[CV] END max_depth=8, min_samples_leaf=50, min_samples_split=50, n_estimators=120; total time=   2.9s\n",
            "[CV] END max_depth=8, min_samples_leaf=50, min_samples_split=100, n_estimators=100; total time=   1.6s\n",
            "[CV] END max_depth=8, min_samples_leaf=50, min_samples_split=100, n_estimators=100; total time=   1.6s\n",
            "[CV] END max_depth=8, min_samples_leaf=50, min_samples_split=100, n_estimators=100; total time=   1.6s\n",
            "[CV] END max_depth=8, min_samples_leaf=50, min_samples_split=100, n_estimators=100; total time=   1.6s\n",
            "[CV] END max_depth=8, min_samples_leaf=50, min_samples_split=100, n_estimators=100; total time=   1.6s\n",
            "[CV] END max_depth=8, min_samples_leaf=50, min_samples_split=100, n_estimators=120; total time=   1.9s\n",
            "[CV] END max_depth=8, min_samples_leaf=50, min_samples_split=100, n_estimators=120; total time=   1.9s\n",
            "[CV] END max_depth=8, min_samples_leaf=50, min_samples_split=100, n_estimators=120; total time=   1.9s\n",
            "[CV] END max_depth=8, min_samples_leaf=50, min_samples_split=100, n_estimators=120; total time=   1.9s\n",
            "[CV] END max_depth=8, min_samples_leaf=50, min_samples_split=100, n_estimators=120; total time=   1.9s\n"
          ]
        },
        {
          "output_type": "execute_result",
          "data": {
            "text/plain": [
              "GridSearchCV(cv=5, estimator=GradientBoostingRegressor(),\n",
              "             param_grid={'max_depth': [6, 8], 'min_samples_leaf': [40, 50],\n",
              "                         'min_samples_split': [50, 100],\n",
              "                         'n_estimators': [100, 120]},\n",
              "             verbose=2)"
            ]
          },
          "metadata": {},
          "execution_count": 57
        }
      ]
    },
    {
      "cell_type": "code",
      "source": [
        "gb_grid.best_params_"
      ],
      "metadata": {
        "colab": {
          "base_uri": "https://localhost:8080/"
        },
        "id": "y7Bmx1Syj10N",
        "outputId": "c6aba726-e437-4c05-b474-71fede673e34"
      },
      "execution_count": 58,
      "outputs": [
        {
          "output_type": "execute_result",
          "data": {
            "text/plain": [
              "{'max_depth': 8,\n",
              " 'min_samples_leaf': 40,\n",
              " 'min_samples_split': 50,\n",
              " 'n_estimators': 120}"
            ]
          },
          "metadata": {},
          "execution_count": 58
        }
      ]
    },
    {
      "cell_type": "code",
      "source": [
        "gb_boost_with_best_perams= GradientBoostingRegressor(max_depth= 8,min_samples_leaf= 40,min_samples_split = 50,n_estimators = 120)\n",
        "gb_boost_with_best_perams.fit(X_train,y_train)"
      ],
      "metadata": {
        "colab": {
          "base_uri": "https://localhost:8080/"
        },
        "id": "Cj5OFvGYkTOO",
        "outputId": "0525db2d-28f2-4845-d8f8-892fe47a859e"
      },
      "execution_count": 59,
      "outputs": [
        {
          "output_type": "execute_result",
          "data": {
            "text/plain": [
              "GradientBoostingRegressor(max_depth=8, min_samples_leaf=40,\n",
              "                          min_samples_split=50, n_estimators=120)"
            ]
          },
          "metadata": {},
          "execution_count": 59
        }
      ]
    },
    {
      "cell_type": "code",
      "source": [
        "gb_boost_with_best_perams.score(X_train,y_train)"
      ],
      "metadata": {
        "colab": {
          "base_uri": "https://localhost:8080/"
        },
        "id": "6rdok37vkTGq",
        "outputId": "7569e938-2228-49ef-def0-10290360d2aa"
      },
      "execution_count": 60,
      "outputs": [
        {
          "output_type": "execute_result",
          "data": {
            "text/plain": [
              "0.9644314824663174"
            ]
          },
          "metadata": {},
          "execution_count": 60
        }
      ]
    },
    {
      "cell_type": "code",
      "source": [
        "#Gredient boost score on test data\n",
        "gb_boost_with_best_perams.score(X_test,y_test)"
      ],
      "metadata": {
        "colab": {
          "base_uri": "https://localhost:8080/"
        },
        "id": "c5bBm4cIkgD8",
        "outputId": "d9423902-31d1-4d29-9f44-1295e76091ab"
      },
      "execution_count": 61,
      "outputs": [
        {
          "output_type": "execute_result",
          "data": {
            "text/plain": [
              "0.92454394389546"
            ]
          },
          "metadata": {},
          "execution_count": 61
        }
      ]
    },
    {
      "cell_type": "code",
      "source": [
        "#storing the result data of Desicion tree\n",
        "reporting['Gradient Boositng']=gb_boost_with_best_perams.score(X_test,y_test)"
      ],
      "metadata": {
        "id": "bNtpdJzck0-U"
      },
      "execution_count": 65,
      "outputs": []
    },
    {
      "cell_type": "markdown",
      "metadata": {
        "id": "xVWHae08sMdY"
      },
      "source": [
        "# Present all the results of every model in a data frame and plot these in function of the model"
      ]
    },
    {
      "cell_type": "code",
      "metadata": {
        "id": "csx3BhDQsMdY"
      },
      "source": [
        "#create the dataframe for result scores\n",
        "data_results=pd.DataFrame()\n",
        "data_results['model']=reporting.keys()\n",
        "data_results['Score R2']=reporting.values()"
      ],
      "execution_count": 66,
      "outputs": []
    },
    {
      "cell_type": "code",
      "metadata": {
        "id": "gDYI8bB9sMdY"
      },
      "source": [
        "data_results=data_results.set_index('model')"
      ],
      "execution_count": 67,
      "outputs": []
    },
    {
      "cell_type": "code",
      "metadata": {
        "id": "ZttxwNZRsMdZ",
        "colab": {
          "base_uri": "https://localhost:8080/",
          "height": 174
        },
        "outputId": "f1433c64-556d-4b76-daf9-d4ec48e3e3a6"
      },
      "source": [
        "dataModels=pd.DataFrame(data_results['Score R2'].sort_values(ascending=False))\n",
        "dataModels.style.background_gradient(cmap=sns.light_palette(color='blue',as_cmap=True))"
      ],
      "execution_count": 68,
      "outputs": [
        {
          "output_type": "execute_result",
          "data": {
            "text/html": [
              "<style type=\"text/css\">\n",
              "#T_23dca_row0_col0 {\n",
              "  background-color: #0000ff;\n",
              "  color: #f1f1f1;\n",
              "}\n",
              "#T_23dca_row1_col0 {\n",
              "  background-color: #2020fd;\n",
              "  color: #f1f1f1;\n",
              "}\n",
              "#T_23dca_row2_col0 {\n",
              "  background-color: #f0f0f3;\n",
              "  color: #000000;\n",
              "}\n",
              "</style>\n",
              "<table id=\"T_23dca_\" class=\"dataframe\">\n",
              "  <thead>\n",
              "    <tr>\n",
              "      <th class=\"blank level0\" >&nbsp;</th>\n",
              "      <th class=\"col_heading level0 col0\" >Score R2</th>\n",
              "    </tr>\n",
              "    <tr>\n",
              "      <th class=\"index_name level0\" >model</th>\n",
              "      <th class=\"blank col0\" >&nbsp;</th>\n",
              "    </tr>\n",
              "  </thead>\n",
              "  <tbody>\n",
              "    <tr>\n",
              "      <th id=\"T_23dca_level0_row0\" class=\"row_heading level0 row0\" >Gradient Boositng</th>\n",
              "      <td id=\"T_23dca_row0_col0\" class=\"data row0 col0\" >0.924544</td>\n",
              "    </tr>\n",
              "    <tr>\n",
              "      <th id=\"T_23dca_level0_row1\" class=\"row_heading level0 row1\" >Decision Tree Regressor</th>\n",
              "      <td id=\"T_23dca_row1_col0\" class=\"data row1 col0\" >0.877448</td>\n",
              "    </tr>\n",
              "    <tr>\n",
              "      <th id=\"T_23dca_level0_row2\" class=\"row_heading level0 row2\" >Linear regression</th>\n",
              "      <td id=\"T_23dca_row2_col0\" class=\"data row2 col0\" >0.578065</td>\n",
              "    </tr>\n",
              "  </tbody>\n",
              "</table>\n"
            ],
            "text/plain": [
              "<pandas.io.formats.style.Styler at 0x7ff5b63d7610>"
            ]
          },
          "metadata": {},
          "execution_count": 68
        }
      ]
    },
    {
      "cell_type": "markdown",
      "metadata": {
        "id": "Ny6734treZRv"
      },
      "source": [
        "###Conclusion"
      ]
    },
    {
      "cell_type": "markdown",
      "metadata": {
        "id": "-z2asLRkgZ7x"
      },
      "source": [
        "\n",
        "\n",
        "\n",
        "*   we see a high demand  from april  for bike \n",
        "*   summer is the season in which we have the more demand\n",
        "*   the amount of rented bikes is huge, when there is solar radiation, the counter of rents is around 1000\n",
        "*   there are much more bike sharing during the day than the night\n",
        "*   Accuray is good for Gradient Boosting Algorithm  followed by the Decision Tree and Linear Regression\n",
        "\n",
        "\n",
        "\n",
        "\n",
        "\n",
        "\n",
        "\n",
        "\n"
      ]
    },
    {
      "cell_type": "markdown",
      "metadata": {
        "id": "luio1uJ6sMda"
      },
      "source": [
        " ###  "
      ]
    }
  ]
}