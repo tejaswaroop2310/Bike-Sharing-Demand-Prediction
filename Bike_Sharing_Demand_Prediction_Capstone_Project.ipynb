{
  "nbformat": 4,
  "nbformat_minor": 0,
  "metadata": {
    "kernelspec": {
      "display_name": "Python 3",
      "language": "python",
      "name": "python3"
    },
    "language_info": {
      "codemirror_mode": {
        "name": "ipython",
        "version": 3
      },
      "file_extension": ".py",
      "mimetype": "text/x-python",
      "name": "python",
      "nbconvert_exporter": "python",
      "pygments_lexer": "ipython3",
      "version": "3.7.1"
    },
    "colab": {
      "name": "Bike Sharing Demand Prediction - Capstone Project.ipynb",
      "provenance": [],
      "include_colab_link": true
    }
  },
  "cells": [
    {
      "cell_type": "markdown",
      "metadata": {
        "id": "view-in-github",
        "colab_type": "text"
      },
      "source": [
        "<a href=\"https://colab.research.google.com/github/tejaswaroop2310/Bike-Sharing-Demand-Prediction/blob/main/Bike_Sharing_Demand_Prediction_Capstone_Project.ipynb\" target=\"_parent\"><img src=\"https://colab.research.google.com/assets/colab-badge.svg\" alt=\"Open In Colab\"/></a>"
      ]
    },
    {
      "cell_type": "markdown",
      "metadata": {
        "id": "C98Z99d_sMcT"
      },
      "source": [
        "# <b><u> Project Title : Seoul Bike Sharing Demand Prediction </u></b>"
      ]
    },
    {
      "cell_type": "markdown",
      "metadata": {
        "id": "mk-Zeyc4fOcC"
      },
      "source": [
        "## <b> Problem Description </b>\n",
        "\n",
        "### Currently Rental bikes are introduced in many urban cities for the enhancement of mobility comfort. It is important to make the rental bike available and accessible to the public at the right time as it lessens the waiting time. Eventually, providing the city with a stable supply of rental bikes becomes a major concern. The crucial part is the prediction of bike count required at each hour for the stable supply of rental bikes.\n"
      ]
    },
    {
      "cell_type": "markdown",
      "metadata": {
        "id": "ZedITRjrfSr2"
      },
      "source": [
        "## <b> Data Description </b>\n",
        "\n",
        "### <b> The dataset contains weather information (Temperature, Humidity, Windspeed, Visibility, Dewpoint, Solar radiation, Snowfall, Rainfall), the number of bikes rented per hour and date information.</b>\n",
        "\n",
        "\n",
        "### <b>Attribute Information: </b>\n",
        "\n",
        "* ### Date : year-month-day\n",
        "* ### Rented Bike count - Count of bikes rented at each hour\n",
        "* ### Hour - Hour of he day\n",
        "* ### Temperature-Temperature in Celsius\n",
        "* ### Humidity - %\n",
        "* ### Windspeed - m/s\n",
        "* ### Visibility - 10m\n",
        "* ### Dew point temperature - Celsius\n",
        "* ### Solar radiation - MJ/m2\n",
        "* ### Rainfall - mm\n",
        "* ### Snowfall - cm\n",
        "* ### Seasons - Winter, Spring, Summer, Autumn\n",
        "* ### Holiday - Holiday/No holiday\n",
        "* ### Functional Day - NoFunc(Non Functional Hours), Fun(Functional hours)"
      ]
    },
    {
      "cell_type": "code",
      "metadata": {
        "id": "xL_4iKAwsMcY"
      },
      "source": [
        "#import Libraries\n",
        "import numpy as np\n",
        "import pandas as pd\n",
        "import matplotlib.pyplot as plt\n",
        "import seaborn as sns\n"
      ],
      "execution_count": 1,
      "outputs": []
    },
    {
      "cell_type": "markdown",
      "metadata": {
        "id": "KSmdWB7-sMca"
      },
      "source": [
        "# Import the dataset "
      ]
    },
    {
      "cell_type": "code",
      "metadata": {
        "colab": {
          "base_uri": "https://localhost:8080/"
        },
        "id": "pDiLfssj5Mp1",
        "outputId": "588a15cb-5447-421a-f504-ea68ec3577cb"
      },
      "source": [
        "#Mount the drive\n",
        "from google.colab import drive\n",
        "drive.mount('/content/drive')"
      ],
      "execution_count": 2,
      "outputs": [
        {
          "output_type": "stream",
          "name": "stdout",
          "text": [
            "Mounted at /content/drive\n"
          ]
        }
      ]
    },
    {
      "cell_type": "code",
      "metadata": {
        "id": "LZ5yLPWIsMcb"
      },
      "source": [
        "#load the data\n",
        "data=pd.read_csv(\"/content/drive/MyDrive/SeoulBikeData.csv\",encoding= 'unicode_escape')"
      ],
      "execution_count": 3,
      "outputs": []
    },
    {
      "cell_type": "code",
      "metadata": {
        "colab": {
          "base_uri": "https://localhost:8080/",
          "height": 321
        },
        "id": "yNn4nlc3sMcc",
        "outputId": "8909dffc-90b8-4100-bcb0-b45f2750ab80"
      },
      "source": [
        "#first five records of the data set\n",
        "data.head()"
      ],
      "execution_count": 4,
      "outputs": [
        {
          "output_type": "execute_result",
          "data": {
            "text/html": [
              "<div>\n",
              "<style scoped>\n",
              "    .dataframe tbody tr th:only-of-type {\n",
              "        vertical-align: middle;\n",
              "    }\n",
              "\n",
              "    .dataframe tbody tr th {\n",
              "        vertical-align: top;\n",
              "    }\n",
              "\n",
              "    .dataframe thead th {\n",
              "        text-align: right;\n",
              "    }\n",
              "</style>\n",
              "<table border=\"1\" class=\"dataframe\">\n",
              "  <thead>\n",
              "    <tr style=\"text-align: right;\">\n",
              "      <th></th>\n",
              "      <th>Date</th>\n",
              "      <th>Rented Bike Count</th>\n",
              "      <th>Hour</th>\n",
              "      <th>Temperature(°C)</th>\n",
              "      <th>Humidity(%)</th>\n",
              "      <th>Wind speed (m/s)</th>\n",
              "      <th>Visibility (10m)</th>\n",
              "      <th>Dew point temperature(°C)</th>\n",
              "      <th>Solar Radiation (MJ/m2)</th>\n",
              "      <th>Rainfall(mm)</th>\n",
              "      <th>Snowfall (cm)</th>\n",
              "      <th>Seasons</th>\n",
              "      <th>Holiday</th>\n",
              "      <th>Functioning Day</th>\n",
              "    </tr>\n",
              "  </thead>\n",
              "  <tbody>\n",
              "    <tr>\n",
              "      <th>0</th>\n",
              "      <td>01/12/2017</td>\n",
              "      <td>254</td>\n",
              "      <td>0</td>\n",
              "      <td>-5.2</td>\n",
              "      <td>37</td>\n",
              "      <td>2.2</td>\n",
              "      <td>2000</td>\n",
              "      <td>-17.6</td>\n",
              "      <td>0.0</td>\n",
              "      <td>0.0</td>\n",
              "      <td>0.0</td>\n",
              "      <td>Winter</td>\n",
              "      <td>No Holiday</td>\n",
              "      <td>Yes</td>\n",
              "    </tr>\n",
              "    <tr>\n",
              "      <th>1</th>\n",
              "      <td>01/12/2017</td>\n",
              "      <td>204</td>\n",
              "      <td>1</td>\n",
              "      <td>-5.5</td>\n",
              "      <td>38</td>\n",
              "      <td>0.8</td>\n",
              "      <td>2000</td>\n",
              "      <td>-17.6</td>\n",
              "      <td>0.0</td>\n",
              "      <td>0.0</td>\n",
              "      <td>0.0</td>\n",
              "      <td>Winter</td>\n",
              "      <td>No Holiday</td>\n",
              "      <td>Yes</td>\n",
              "    </tr>\n",
              "    <tr>\n",
              "      <th>2</th>\n",
              "      <td>01/12/2017</td>\n",
              "      <td>173</td>\n",
              "      <td>2</td>\n",
              "      <td>-6.0</td>\n",
              "      <td>39</td>\n",
              "      <td>1.0</td>\n",
              "      <td>2000</td>\n",
              "      <td>-17.7</td>\n",
              "      <td>0.0</td>\n",
              "      <td>0.0</td>\n",
              "      <td>0.0</td>\n",
              "      <td>Winter</td>\n",
              "      <td>No Holiday</td>\n",
              "      <td>Yes</td>\n",
              "    </tr>\n",
              "    <tr>\n",
              "      <th>3</th>\n",
              "      <td>01/12/2017</td>\n",
              "      <td>107</td>\n",
              "      <td>3</td>\n",
              "      <td>-6.2</td>\n",
              "      <td>40</td>\n",
              "      <td>0.9</td>\n",
              "      <td>2000</td>\n",
              "      <td>-17.6</td>\n",
              "      <td>0.0</td>\n",
              "      <td>0.0</td>\n",
              "      <td>0.0</td>\n",
              "      <td>Winter</td>\n",
              "      <td>No Holiday</td>\n",
              "      <td>Yes</td>\n",
              "    </tr>\n",
              "    <tr>\n",
              "      <th>4</th>\n",
              "      <td>01/12/2017</td>\n",
              "      <td>78</td>\n",
              "      <td>4</td>\n",
              "      <td>-6.0</td>\n",
              "      <td>36</td>\n",
              "      <td>2.3</td>\n",
              "      <td>2000</td>\n",
              "      <td>-18.6</td>\n",
              "      <td>0.0</td>\n",
              "      <td>0.0</td>\n",
              "      <td>0.0</td>\n",
              "      <td>Winter</td>\n",
              "      <td>No Holiday</td>\n",
              "      <td>Yes</td>\n",
              "    </tr>\n",
              "  </tbody>\n",
              "</table>\n",
              "</div>"
            ],
            "text/plain": [
              "         Date  Rented Bike Count  Hour  ...  Seasons     Holiday  Functioning Day\n",
              "0  01/12/2017                254     0  ...   Winter  No Holiday              Yes\n",
              "1  01/12/2017                204     1  ...   Winter  No Holiday              Yes\n",
              "2  01/12/2017                173     2  ...   Winter  No Holiday              Yes\n",
              "3  01/12/2017                107     3  ...   Winter  No Holiday              Yes\n",
              "4  01/12/2017                 78     4  ...   Winter  No Holiday              Yes\n",
              "\n",
              "[5 rows x 14 columns]"
            ]
          },
          "metadata": {},
          "execution_count": 4
        }
      ]
    },
    {
      "cell_type": "code",
      "metadata": {
        "scrolled": true,
        "colab": {
          "base_uri": "https://localhost:8080/",
          "height": 321
        },
        "id": "PAUxN3oRsMcd",
        "outputId": "56b5c79f-3807-4d06-876c-b44b95cfb0cf"
      },
      "source": [
        "#Last five records of the dataset\n",
        "data.tail()"
      ],
      "execution_count": 5,
      "outputs": [
        {
          "output_type": "execute_result",
          "data": {
            "text/html": [
              "<div>\n",
              "<style scoped>\n",
              "    .dataframe tbody tr th:only-of-type {\n",
              "        vertical-align: middle;\n",
              "    }\n",
              "\n",
              "    .dataframe tbody tr th {\n",
              "        vertical-align: top;\n",
              "    }\n",
              "\n",
              "    .dataframe thead th {\n",
              "        text-align: right;\n",
              "    }\n",
              "</style>\n",
              "<table border=\"1\" class=\"dataframe\">\n",
              "  <thead>\n",
              "    <tr style=\"text-align: right;\">\n",
              "      <th></th>\n",
              "      <th>Date</th>\n",
              "      <th>Rented Bike Count</th>\n",
              "      <th>Hour</th>\n",
              "      <th>Temperature(°C)</th>\n",
              "      <th>Humidity(%)</th>\n",
              "      <th>Wind speed (m/s)</th>\n",
              "      <th>Visibility (10m)</th>\n",
              "      <th>Dew point temperature(°C)</th>\n",
              "      <th>Solar Radiation (MJ/m2)</th>\n",
              "      <th>Rainfall(mm)</th>\n",
              "      <th>Snowfall (cm)</th>\n",
              "      <th>Seasons</th>\n",
              "      <th>Holiday</th>\n",
              "      <th>Functioning Day</th>\n",
              "    </tr>\n",
              "  </thead>\n",
              "  <tbody>\n",
              "    <tr>\n",
              "      <th>8755</th>\n",
              "      <td>30/11/2018</td>\n",
              "      <td>1003</td>\n",
              "      <td>19</td>\n",
              "      <td>4.2</td>\n",
              "      <td>34</td>\n",
              "      <td>2.6</td>\n",
              "      <td>1894</td>\n",
              "      <td>-10.3</td>\n",
              "      <td>0.0</td>\n",
              "      <td>0.0</td>\n",
              "      <td>0.0</td>\n",
              "      <td>Autumn</td>\n",
              "      <td>No Holiday</td>\n",
              "      <td>Yes</td>\n",
              "    </tr>\n",
              "    <tr>\n",
              "      <th>8756</th>\n",
              "      <td>30/11/2018</td>\n",
              "      <td>764</td>\n",
              "      <td>20</td>\n",
              "      <td>3.4</td>\n",
              "      <td>37</td>\n",
              "      <td>2.3</td>\n",
              "      <td>2000</td>\n",
              "      <td>-9.9</td>\n",
              "      <td>0.0</td>\n",
              "      <td>0.0</td>\n",
              "      <td>0.0</td>\n",
              "      <td>Autumn</td>\n",
              "      <td>No Holiday</td>\n",
              "      <td>Yes</td>\n",
              "    </tr>\n",
              "    <tr>\n",
              "      <th>8757</th>\n",
              "      <td>30/11/2018</td>\n",
              "      <td>694</td>\n",
              "      <td>21</td>\n",
              "      <td>2.6</td>\n",
              "      <td>39</td>\n",
              "      <td>0.3</td>\n",
              "      <td>1968</td>\n",
              "      <td>-9.9</td>\n",
              "      <td>0.0</td>\n",
              "      <td>0.0</td>\n",
              "      <td>0.0</td>\n",
              "      <td>Autumn</td>\n",
              "      <td>No Holiday</td>\n",
              "      <td>Yes</td>\n",
              "    </tr>\n",
              "    <tr>\n",
              "      <th>8758</th>\n",
              "      <td>30/11/2018</td>\n",
              "      <td>712</td>\n",
              "      <td>22</td>\n",
              "      <td>2.1</td>\n",
              "      <td>41</td>\n",
              "      <td>1.0</td>\n",
              "      <td>1859</td>\n",
              "      <td>-9.8</td>\n",
              "      <td>0.0</td>\n",
              "      <td>0.0</td>\n",
              "      <td>0.0</td>\n",
              "      <td>Autumn</td>\n",
              "      <td>No Holiday</td>\n",
              "      <td>Yes</td>\n",
              "    </tr>\n",
              "    <tr>\n",
              "      <th>8759</th>\n",
              "      <td>30/11/2018</td>\n",
              "      <td>584</td>\n",
              "      <td>23</td>\n",
              "      <td>1.9</td>\n",
              "      <td>43</td>\n",
              "      <td>1.3</td>\n",
              "      <td>1909</td>\n",
              "      <td>-9.3</td>\n",
              "      <td>0.0</td>\n",
              "      <td>0.0</td>\n",
              "      <td>0.0</td>\n",
              "      <td>Autumn</td>\n",
              "      <td>No Holiday</td>\n",
              "      <td>Yes</td>\n",
              "    </tr>\n",
              "  </tbody>\n",
              "</table>\n",
              "</div>"
            ],
            "text/plain": [
              "            Date  Rented Bike Count  Hour  ...  Seasons     Holiday  Functioning Day\n",
              "8755  30/11/2018               1003    19  ...   Autumn  No Holiday              Yes\n",
              "8756  30/11/2018                764    20  ...   Autumn  No Holiday              Yes\n",
              "8757  30/11/2018                694    21  ...   Autumn  No Holiday              Yes\n",
              "8758  30/11/2018                712    22  ...   Autumn  No Holiday              Yes\n",
              "8759  30/11/2018                584    23  ...   Autumn  No Holiday              Yes\n",
              "\n",
              "[5 rows x 14 columns]"
            ]
          },
          "metadata": {},
          "execution_count": 5
        }
      ]
    },
    {
      "cell_type": "markdown",
      "metadata": {
        "id": "GD6YqgOgsMce"
      },
      "source": [
        "# Step 1 : Exploratory Data Analysis and Preprocessing"
      ]
    },
    {
      "cell_type": "code",
      "metadata": {
        "colab": {
          "base_uri": "https://localhost:8080/"
        },
        "id": "7GaDCC1rsMcf",
        "outputId": "9f4b24ad-2e50-4645-dbde-a5d2fa4b9ffe"
      },
      "source": [
        "#Shape of the Dataset\n",
        "print('The DataFrame contains {} record and {} columns '.format(data.shape[0],data.shape[1]))"
      ],
      "execution_count": 6,
      "outputs": [
        {
          "output_type": "stream",
          "name": "stdout",
          "text": [
            "The DataFrame contains 8760 record and 14 columns \n"
          ]
        }
      ]
    },
    {
      "cell_type": "code",
      "metadata": {
        "colab": {
          "base_uri": "https://localhost:8080/"
        },
        "id": "telyvy5NsMch",
        "outputId": "7e3d92d9-b1a7-43bd-fd99-cf110d63df9d"
      },
      "source": [
        "#check the datatype of the labels\n",
        "data.dtypes"
      ],
      "execution_count": 7,
      "outputs": [
        {
          "output_type": "execute_result",
          "data": {
            "text/plain": [
              "Date                          object\n",
              "Rented Bike Count              int64\n",
              "Hour                           int64\n",
              "Temperature(°C)              float64\n",
              "Humidity(%)                    int64\n",
              "Wind speed (m/s)             float64\n",
              "Visibility (10m)               int64\n",
              "Dew point temperature(°C)    float64\n",
              "Solar Radiation (MJ/m2)      float64\n",
              "Rainfall(mm)                 float64\n",
              "Snowfall (cm)                float64\n",
              "Seasons                       object\n",
              "Holiday                       object\n",
              "Functioning Day               object\n",
              "dtype: object"
            ]
          },
          "metadata": {},
          "execution_count": 7
        }
      ]
    },
    {
      "cell_type": "markdown",
      "metadata": {
        "id": "w4kUlghcsMci"
      },
      "source": [
        "\n",
        "##### Here is the statitical description of the features"
      ]
    },
    {
      "cell_type": "code",
      "metadata": {
        "scrolled": true,
        "colab": {
          "base_uri": "https://localhost:8080/",
          "height": 295
        },
        "id": "2SJspB_0sMci",
        "outputId": "1e7874b0-d152-4eb8-d056-6f3015c54779"
      },
      "source": [
        "#Statistical Information of the DataSet\n",
        "data.describe()"
      ],
      "execution_count": 8,
      "outputs": [
        {
          "output_type": "execute_result",
          "data": {
            "text/html": [
              "<div>\n",
              "<style scoped>\n",
              "    .dataframe tbody tr th:only-of-type {\n",
              "        vertical-align: middle;\n",
              "    }\n",
              "\n",
              "    .dataframe tbody tr th {\n",
              "        vertical-align: top;\n",
              "    }\n",
              "\n",
              "    .dataframe thead th {\n",
              "        text-align: right;\n",
              "    }\n",
              "</style>\n",
              "<table border=\"1\" class=\"dataframe\">\n",
              "  <thead>\n",
              "    <tr style=\"text-align: right;\">\n",
              "      <th></th>\n",
              "      <th>Rented Bike Count</th>\n",
              "      <th>Hour</th>\n",
              "      <th>Temperature(°C)</th>\n",
              "      <th>Humidity(%)</th>\n",
              "      <th>Wind speed (m/s)</th>\n",
              "      <th>Visibility (10m)</th>\n",
              "      <th>Dew point temperature(°C)</th>\n",
              "      <th>Solar Radiation (MJ/m2)</th>\n",
              "      <th>Rainfall(mm)</th>\n",
              "      <th>Snowfall (cm)</th>\n",
              "    </tr>\n",
              "  </thead>\n",
              "  <tbody>\n",
              "    <tr>\n",
              "      <th>count</th>\n",
              "      <td>8760.000000</td>\n",
              "      <td>8760.000000</td>\n",
              "      <td>8760.000000</td>\n",
              "      <td>8760.000000</td>\n",
              "      <td>8760.000000</td>\n",
              "      <td>8760.000000</td>\n",
              "      <td>8760.000000</td>\n",
              "      <td>8760.000000</td>\n",
              "      <td>8760.000000</td>\n",
              "      <td>8760.000000</td>\n",
              "    </tr>\n",
              "    <tr>\n",
              "      <th>mean</th>\n",
              "      <td>704.602055</td>\n",
              "      <td>11.500000</td>\n",
              "      <td>12.882922</td>\n",
              "      <td>58.226256</td>\n",
              "      <td>1.724909</td>\n",
              "      <td>1436.825799</td>\n",
              "      <td>4.073813</td>\n",
              "      <td>0.569111</td>\n",
              "      <td>0.148687</td>\n",
              "      <td>0.075068</td>\n",
              "    </tr>\n",
              "    <tr>\n",
              "      <th>std</th>\n",
              "      <td>644.997468</td>\n",
              "      <td>6.922582</td>\n",
              "      <td>11.944825</td>\n",
              "      <td>20.362413</td>\n",
              "      <td>1.036300</td>\n",
              "      <td>608.298712</td>\n",
              "      <td>13.060369</td>\n",
              "      <td>0.868746</td>\n",
              "      <td>1.128193</td>\n",
              "      <td>0.436746</td>\n",
              "    </tr>\n",
              "    <tr>\n",
              "      <th>min</th>\n",
              "      <td>0.000000</td>\n",
              "      <td>0.000000</td>\n",
              "      <td>-17.800000</td>\n",
              "      <td>0.000000</td>\n",
              "      <td>0.000000</td>\n",
              "      <td>27.000000</td>\n",
              "      <td>-30.600000</td>\n",
              "      <td>0.000000</td>\n",
              "      <td>0.000000</td>\n",
              "      <td>0.000000</td>\n",
              "    </tr>\n",
              "    <tr>\n",
              "      <th>25%</th>\n",
              "      <td>191.000000</td>\n",
              "      <td>5.750000</td>\n",
              "      <td>3.500000</td>\n",
              "      <td>42.000000</td>\n",
              "      <td>0.900000</td>\n",
              "      <td>940.000000</td>\n",
              "      <td>-4.700000</td>\n",
              "      <td>0.000000</td>\n",
              "      <td>0.000000</td>\n",
              "      <td>0.000000</td>\n",
              "    </tr>\n",
              "    <tr>\n",
              "      <th>50%</th>\n",
              "      <td>504.500000</td>\n",
              "      <td>11.500000</td>\n",
              "      <td>13.700000</td>\n",
              "      <td>57.000000</td>\n",
              "      <td>1.500000</td>\n",
              "      <td>1698.000000</td>\n",
              "      <td>5.100000</td>\n",
              "      <td>0.010000</td>\n",
              "      <td>0.000000</td>\n",
              "      <td>0.000000</td>\n",
              "    </tr>\n",
              "    <tr>\n",
              "      <th>75%</th>\n",
              "      <td>1065.250000</td>\n",
              "      <td>17.250000</td>\n",
              "      <td>22.500000</td>\n",
              "      <td>74.000000</td>\n",
              "      <td>2.300000</td>\n",
              "      <td>2000.000000</td>\n",
              "      <td>14.800000</td>\n",
              "      <td>0.930000</td>\n",
              "      <td>0.000000</td>\n",
              "      <td>0.000000</td>\n",
              "    </tr>\n",
              "    <tr>\n",
              "      <th>max</th>\n",
              "      <td>3556.000000</td>\n",
              "      <td>23.000000</td>\n",
              "      <td>39.400000</td>\n",
              "      <td>98.000000</td>\n",
              "      <td>7.400000</td>\n",
              "      <td>2000.000000</td>\n",
              "      <td>27.200000</td>\n",
              "      <td>3.520000</td>\n",
              "      <td>35.000000</td>\n",
              "      <td>8.800000</td>\n",
              "    </tr>\n",
              "  </tbody>\n",
              "</table>\n",
              "</div>"
            ],
            "text/plain": [
              "       Rented Bike Count         Hour  ...  Rainfall(mm)  Snowfall (cm)\n",
              "count        8760.000000  8760.000000  ...   8760.000000    8760.000000\n",
              "mean          704.602055    11.500000  ...      0.148687       0.075068\n",
              "std           644.997468     6.922582  ...      1.128193       0.436746\n",
              "min             0.000000     0.000000  ...      0.000000       0.000000\n",
              "25%           191.000000     5.750000  ...      0.000000       0.000000\n",
              "50%           504.500000    11.500000  ...      0.000000       0.000000\n",
              "75%          1065.250000    17.250000  ...      0.000000       0.000000\n",
              "max          3556.000000    23.000000  ...     35.000000       8.800000\n",
              "\n",
              "[8 rows x 10 columns]"
            ]
          },
          "metadata": {},
          "execution_count": 8
        }
      ]
    },
    {
      "cell_type": "markdown",
      "metadata": {
        "id": "gIRLeIpwsMcj"
      },
      "source": [
        "#####  Verify that there are no missing values"
      ]
    },
    {
      "cell_type": "code",
      "metadata": {
        "colab": {
          "base_uri": "https://localhost:8080/"
        },
        "id": "bTJhT-_DsMck",
        "outputId": "517f9629-8727-4fdd-b85f-8178291e8da7"
      },
      "source": [
        "#check the Null values\n",
        "data.isnull().sum()"
      ],
      "execution_count": 9,
      "outputs": [
        {
          "output_type": "execute_result",
          "data": {
            "text/plain": [
              "Date                         0\n",
              "Rented Bike Count            0\n",
              "Hour                         0\n",
              "Temperature(°C)              0\n",
              "Humidity(%)                  0\n",
              "Wind speed (m/s)             0\n",
              "Visibility (10m)             0\n",
              "Dew point temperature(°C)    0\n",
              "Solar Radiation (MJ/m2)      0\n",
              "Rainfall(mm)                 0\n",
              "Snowfall (cm)                0\n",
              "Seasons                      0\n",
              "Holiday                      0\n",
              "Functioning Day              0\n",
              "dtype: int64"
            ]
          },
          "metadata": {},
          "execution_count": 9
        }
      ]
    },
    {
      "cell_type": "markdown",
      "metadata": {
        "id": "yzvkioKxsMcl"
      },
      "source": [
        "#### We convert as datetime the series 'Date'"
      ]
    },
    {
      "cell_type": "code",
      "metadata": {
        "id": "vGS6X0UksMcl"
      },
      "source": [
        "#Convert into datetime \n",
        "data['Date']=pd.to_datetime(data['Date'],format=\"%d/%m/%Y\")"
      ],
      "execution_count": 10,
      "outputs": []
    },
    {
      "cell_type": "markdown",
      "metadata": {
        "id": "CDoJybeVsMcm"
      },
      "source": [
        "####   "
      ]
    },
    {
      "cell_type": "markdown",
      "metadata": {
        "id": "0uu3O4rTsMcn"
      },
      "source": [
        "## Here are the correlations between variables "
      ]
    },
    {
      "cell_type": "code",
      "metadata": {
        "colab": {
          "base_uri": "https://localhost:8080/",
          "height": 673
        },
        "id": "iGOtrhSWsMcp",
        "outputId": "2f9dde40-dd01-4897-8e47-e0a58867665e"
      },
      "source": [
        "#plot the Correlations between Variables\n",
        "plt.figure(figsize=(10,10))\n",
        "sns.heatmap(data.corr(\"pearson\"),\n",
        "            vmin=-1, vmax=1,cmap=\"Blues\",annot=True, \n",
        "            square=True);"
      ],
      "execution_count": 11,
      "outputs": [
        {
          "output_type": "display_data",
          "data": {
            "image/png": "[encoded data removed]",
            "text/plain": [
              "<Figure size 720x720 with 2 Axes>"
            ]
          },
          "metadata": {
            "needs_background": "light"
          }
        }
      ]
    },
    {
      "cell_type": "markdown",
      "metadata": {
        "id": "khGzV-HbsMcq"
      },
      "source": [
        "#### We see that there is a hyper correlation between columns 'Temperature(°C)' and 'Dew point temperature(°C)'  so we can drop the column 'Dew point temperature(°C)'. And they have the same variations."
      ]
    },
    {
      "cell_type": "code",
      "metadata": {
        "id": "Va0gtqrasMcq"
      },
      "source": [
        "#Drop the columns\n",
        "data=data.drop(['Dew point temperature(°C)'],axis=1)"
      ],
      "execution_count": 12,
      "outputs": []
    },
    {
      "cell_type": "markdown",
      "metadata": {
        "id": "4qC_S_XnsMcs"
      },
      "source": [
        "####  "
      ]
    },
    {
      "cell_type": "markdown",
      "metadata": {
        "id": "HWFz6069sMct"
      },
      "source": [
        "# Step 2 : Data Preparation and data Visualisation using Matplotlib and seaborn"
      ]
    },
    {
      "cell_type": "code",
      "metadata": {
        "id": "HvivxpJMsMcv"
      },
      "source": [
        "#create a Series That describes if it is day or night\n",
        "data['label_day_night']=data['Hour'].apply(lambda x : 'Night' if (x >20 or x<5) else( 'Day'))"
      ],
      "execution_count": 13,
      "outputs": []
    },
    {
      "cell_type": "code",
      "metadata": {
        "scrolled": true,
        "id": "TB17Ls74sMcw"
      },
      "source": [
        "#Column give the day of the week\n",
        "data['WeekDay']=data[\"Date\"].dt.day_name() \n"
      ],
      "execution_count": 14,
      "outputs": []
    },
    {
      "cell_type": "code",
      "metadata": {
        "id": "pgPhRVDhsMcw"
      },
      "source": [
        "#Column gives the month of the date\n",
        "data['Month']=data['Date'].dt.month"
      ],
      "execution_count": 15,
      "outputs": []
    },
    {
      "cell_type": "code",
      "metadata": {
        "colab": {
          "base_uri": "https://localhost:8080/",
          "height": 321
        },
        "id": "6WSSnInQbGUG",
        "outputId": "f254d9d9-d98a-4745-eb3c-4762d316566b"
      },
      "source": [
        "data.head()"
      ],
      "execution_count": 16,
      "outputs": [
        {
          "output_type": "execute_result",
          "data": {
            "text/html": [
              "<div>\n",
              "<style scoped>\n",
              "    .dataframe tbody tr th:only-of-type {\n",
              "        vertical-align: middle;\n",
              "    }\n",
              "\n",
              "    .dataframe tbody tr th {\n",
              "        vertical-align: top;\n",
              "    }\n",
              "\n",
              "    .dataframe thead th {\n",
              "        text-align: right;\n",
              "    }\n",
              "</style>\n",
              "<table border=\"1\" class=\"dataframe\">\n",
              "  <thead>\n",
              "    <tr style=\"text-align: right;\">\n",
              "      <th></th>\n",
              "      <th>Date</th>\n",
              "      <th>Rented Bike Count</th>\n",
              "      <th>Hour</th>\n",
              "      <th>Temperature(°C)</th>\n",
              "      <th>Humidity(%)</th>\n",
              "      <th>Wind speed (m/s)</th>\n",
              "      <th>Visibility (10m)</th>\n",
              "      <th>Solar Radiation (MJ/m2)</th>\n",
              "      <th>Rainfall(mm)</th>\n",
              "      <th>Snowfall (cm)</th>\n",
              "      <th>Seasons</th>\n",
              "      <th>Holiday</th>\n",
              "      <th>Functioning Day</th>\n",
              "      <th>label_day_night</th>\n",
              "      <th>WeekDay</th>\n",
              "      <th>Month</th>\n",
              "    </tr>\n",
              "  </thead>\n",
              "  <tbody>\n",
              "    <tr>\n",
              "      <th>0</th>\n",
              "      <td>2017-12-01</td>\n",
              "      <td>254</td>\n",
              "      <td>0</td>\n",
              "      <td>-5.2</td>\n",
              "      <td>37</td>\n",
              "      <td>2.2</td>\n",
              "      <td>2000</td>\n",
              "      <td>0.0</td>\n",
              "      <td>0.0</td>\n",
              "      <td>0.0</td>\n",
              "      <td>Winter</td>\n",
              "      <td>No Holiday</td>\n",
              "      <td>Yes</td>\n",
              "      <td>Night</td>\n",
              "      <td>Friday</td>\n",
              "      <td>12</td>\n",
              "    </tr>\n",
              "    <tr>\n",
              "      <th>1</th>\n",
              "      <td>2017-12-01</td>\n",
              "      <td>204</td>\n",
              "      <td>1</td>\n",
              "      <td>-5.5</td>\n",
              "      <td>38</td>\n",
              "      <td>0.8</td>\n",
              "      <td>2000</td>\n",
              "      <td>0.0</td>\n",
              "      <td>0.0</td>\n",
              "      <td>0.0</td>\n",
              "      <td>Winter</td>\n",
              "      <td>No Holiday</td>\n",
              "      <td>Yes</td>\n",
              "      <td>Night</td>\n",
              "      <td>Friday</td>\n",
              "      <td>12</td>\n",
              "    </tr>\n",
              "    <tr>\n",
              "      <th>2</th>\n",
              "      <td>2017-12-01</td>\n",
              "      <td>173</td>\n",
              "      <td>2</td>\n",
              "      <td>-6.0</td>\n",
              "      <td>39</td>\n",
              "      <td>1.0</td>\n",
              "      <td>2000</td>\n",
              "      <td>0.0</td>\n",
              "      <td>0.0</td>\n",
              "      <td>0.0</td>\n",
              "      <td>Winter</td>\n",
              "      <td>No Holiday</td>\n",
              "      <td>Yes</td>\n",
              "      <td>Night</td>\n",
              "      <td>Friday</td>\n",
              "      <td>12</td>\n",
              "    </tr>\n",
              "    <tr>\n",
              "      <th>3</th>\n",
              "      <td>2017-12-01</td>\n",
              "      <td>107</td>\n",
              "      <td>3</td>\n",
              "      <td>-6.2</td>\n",
              "      <td>40</td>\n",
              "      <td>0.9</td>\n",
              "      <td>2000</td>\n",
              "      <td>0.0</td>\n",
              "      <td>0.0</td>\n",
              "      <td>0.0</td>\n",
              "      <td>Winter</td>\n",
              "      <td>No Holiday</td>\n",
              "      <td>Yes</td>\n",
              "      <td>Night</td>\n",
              "      <td>Friday</td>\n",
              "      <td>12</td>\n",
              "    </tr>\n",
              "    <tr>\n",
              "      <th>4</th>\n",
              "      <td>2017-12-01</td>\n",
              "      <td>78</td>\n",
              "      <td>4</td>\n",
              "      <td>-6.0</td>\n",
              "      <td>36</td>\n",
              "      <td>2.3</td>\n",
              "      <td>2000</td>\n",
              "      <td>0.0</td>\n",
              "      <td>0.0</td>\n",
              "      <td>0.0</td>\n",
              "      <td>Winter</td>\n",
              "      <td>No Holiday</td>\n",
              "      <td>Yes</td>\n",
              "      <td>Night</td>\n",
              "      <td>Friday</td>\n",
              "      <td>12</td>\n",
              "    </tr>\n",
              "  </tbody>\n",
              "</table>\n",
              "</div>"
            ],
            "text/plain": [
              "        Date  Rented Bike Count  Hour  ...  label_day_night  WeekDay  Month\n",
              "0 2017-12-01                254     0  ...            Night   Friday     12\n",
              "1 2017-12-01                204     1  ...            Night   Friday     12\n",
              "2 2017-12-01                173     2  ...            Night   Friday     12\n",
              "3 2017-12-01                107     3  ...            Night   Friday     12\n",
              "4 2017-12-01                 78     4  ...            Night   Friday     12\n",
              "\n",
              "[5 rows x 16 columns]"
            ]
          },
          "metadata": {},
          "execution_count": 16
        }
      ]
    },
    {
      "cell_type": "markdown",
      "metadata": {
        "id": "_sXMLehXsMcx"
      },
      "source": [
        "## Plotting variables to the target "
      ]
    },
    {
      "cell_type": "code",
      "metadata": {
        "colab": {
          "base_uri": "https://localhost:8080/",
          "height": 282
        },
        "id": "EJQbvgjhb0Tw",
        "outputId": "882fd49c-2c2e-4906-cf6c-5058c31b810d"
      },
      "source": [
        "#plot the barplot between Month vs Rented Bike count\n",
        "dataSeasonsDataFrame(data.groupby('Month').sum()['Rented Bike Count']).plot(kind = \"bar\")\n"
      ],
      "execution_count": 17,
      "outputs": [
        {
          "output_type": "display_data",
          "data": {
            "image/png": "[encoded data removed]",
            "text/plain": [
              "<Figure size 432x288 with 1 Axes>"
            ]
          },
          "metadata": {
            "needs_background": "light"
          }
        }
      ]
    },
    {
      "cell_type": "markdown",
      "metadata": {
        "id": "4GvpUWs9hIoj"
      },
      "source": [
        "#### On this plot, we see a high demand  from april  for bike "
      ]
    },
    {
      "cell_type": "code",
      "metadata": {
        "colab": {
          "base_uri": "https://localhost:8080/",
          "height": 322
        },
        "id": "AL8AWUHusMc1",
        "outputId": "77b11d69-b7c2-4967-eab3-899411e1988d"
      },
      "source": [
        "#plt the barplot between Season vs Rented Bike Count\n",
        "dataSeasons=pd.DataFrame(data.groupby('Seasons').sum()['Rented Bike Count']).plot(kind='bar')"
      ],
      "execution_count": 23,
      "outputs": [
        {
          "output_type": "display_data",
          "data": {
            "image/png": "[encoded data removed]",
            "text/plain": [
              "<Figure size 432x288 with 1 Axes>"
            ]
          },
          "metadata": {
            "needs_background": "light"
          }
        }
      ]
    },
    {
      "cell_type": "markdown",
      "metadata": {
        "id": "gerieJpthQTO"
      },
      "source": [
        "###### We can see that as we expected, summer is the season in which we have the more demand"
      ]
    },
    {
      "cell_type": "code",
      "metadata": {
        "colab": {
          "base_uri": "https://localhost:8080/",
          "height": 311
        },
        "id": "s1ZozTbCsMc2",
        "outputId": "a7cc490d-86c5-499b-9701-1301e565c626"
      },
      "source": [
        "#plot the bar graph for season vs solar Radiatin\n",
        "dataSolarRadiation=pd.DataFrame(data.groupby('Seasons').sum()['Solar Radiation (MJ/m2)']).plot(kind='bar')"
      ],
      "execution_count": 24,
      "outputs": [
        {
          "output_type": "display_data",
          "data": {
            "image/png": "[encoded data removed]",
            "text/plain": [
              "<Figure size 432x288 with 1 Axes>"
            ]
          },
          "metadata": {
            "needs_background": "light"
          }
        }
      ]
    },
    {
      "cell_type": "markdown",
      "metadata": {
        "id": "gtnGGUPYhXbB"
      },
      "source": [
        "This plot explains the high correlation with the feature 'solar Radiation' and 'Summer'"
      ]
    },
    {
      "cell_type": "code",
      "metadata": {
        "colab": {
          "base_uri": "https://localhost:8080/",
          "height": 265
        },
        "id": "yjlc_rlzsMc3",
        "outputId": "c96f78dd-6624-43dc-9c4b-0694d48814be"
      },
      "source": [
        "#plot the pie plot for the season and Rented Bike Count\n",
        "data.groupby('Seasons').sum()['Rented Bike Count'].plot.pie()"
      ],
      "execution_count": 25,
      "outputs": [
        {
          "output_type": "execute_result",
          "data": {
            "text/plain": [
              "<matplotlib.axes._subplots.AxesSubplot at 0x7f94abc85410>"
            ]
          },
          "metadata": {},
          "execution_count": 25
        },
        {
          "output_type": "display_data",
          "data": {
            "image/png": "[encoded data removed]",
            "text/plain": [
              "<Figure size 432x288 with 1 Axes>"
            ]
          },
          "metadata": {}
        }
      ]
    },
    {
      "cell_type": "code",
      "metadata": {
        "scrolled": true,
        "colab": {
          "base_uri": "https://localhost:8080/",
          "height": 282
        },
        "id": "9KyFgzC-sMc4",
        "outputId": "76283cdf-9129-4562-dd03-9fdf01077aee"
      },
      "source": [
        "#plot the box plot between solar radiation and rented bike count\n",
        "data.groupby('Solar Radiation (MJ/m2)').mean()['Rented Bike Count'].plot(kind='box')"
      ],
      "execution_count": 26,
      "outputs": [
        {
          "output_type": "execute_result",
          "data": {
            "text/plain": [
              "<matplotlib.axes._subplots.AxesSubplot at 0x7f94abc51190>"
            ]
          },
          "metadata": {},
          "execution_count": 26
        },
        {
          "output_type": "display_data",
          "data": {
            "image/png": "[encoded data removed]",
            "text/plain": [
              "<Figure size 432x288 with 1 Axes>"
            ]
          },
          "metadata": {
            "needs_background": "light"
          }
        }
      ]
    },
    {
      "cell_type": "markdown",
      "metadata": {
        "id": "uEXaG3dZh4Fl"
      },
      "source": [
        "#### Here the amount of rented bikes is huge, when there is solar radiation, the counter of rents is around 1000"
      ]
    },
    {
      "cell_type": "code",
      "metadata": {
        "colab": {
          "base_uri": "https://localhost:8080/",
          "height": 296
        },
        "id": "rE_gVuNZsMc5",
        "outputId": "b2d0e244-8a5e-4ff5-ac24-9f9210aa131c"
      },
      "source": [
        "#plot the line plot for hours and Rented Bike count\n",
        "data.groupby('Hour').sum()['Rented Bike Count'].plot()"
      ],
      "execution_count": 27,
      "outputs": [
        {
          "output_type": "execute_result",
          "data": {
            "text/plain": [
              "<matplotlib.axes._subplots.AxesSubplot at 0x7f94abbccc10>"
            ]
          },
          "metadata": {},
          "execution_count": 27
        },
        {
          "output_type": "display_data",
          "data": {
            "image/png": "[encoded data removed]",
            "text/plain": [
              "<Figure size 432x288 with 1 Axes>"
            ]
          },
          "metadata": {
            "needs_background": "light"
          }
        }
      ]
    },
    {
      "cell_type": "markdown",
      "metadata": {
        "id": "SKBacif6hx09"
      },
      "source": [
        "#### Here we have a repartition of the rents by hour, at the beginning of the day we suppose people go to work and return by bike "
      ]
    },
    {
      "cell_type": "code",
      "metadata": {
        "colab": {
          "base_uri": "https://localhost:8080/",
          "height": 279
        },
        "id": "Wk9xkMJzsMc6",
        "outputId": "f21be1ad-19ea-4e99-fcf4-88a32214befb"
      },
      "source": [
        "#plot theline plot for Weekday and Rented bike count \n",
        "dataDays=pd.DataFrame(data.groupby('WeekDay').sum()['Rented Bike Count']).plot()"
      ],
      "execution_count": 29,
      "outputs": [
        {
          "output_type": "display_data",
          "data": {
            "image/png": "[encoded data removed]",
            "text/plain": [
              "<Figure size 432x288 with 1 Axes>"
            ]
          },
          "metadata": {
            "needs_background": "light"
          }
        }
      ]
    },
    {
      "cell_type": "markdown",
      "metadata": {
        "id": "1RxCR_rrh-mJ"
      },
      "source": [
        "#### Days with highest rented bike are week days\n"
      ]
    },
    {
      "cell_type": "markdown",
      "metadata": {
        "id": "V9OhYEFLsMc7"
      },
      "source": [
        "####  "
      ]
    },
    {
      "cell_type": "code",
      "metadata": {
        "colab": {
          "base_uri": "https://localhost:8080/",
          "height": 297
        },
        "id": "u0t4emNvsMc7",
        "outputId": "02b4552d-87e2-44ea-b2d3-dcada282c018"
      },
      "source": [
        "#line plot graph between temperature and Rented Bike count\n",
        "data.groupby('Temperature(°C)').mean()['Rented Bike Count'].plot()"
      ],
      "execution_count": 30,
      "outputs": [
        {
          "output_type": "execute_result",
          "data": {
            "text/plain": [
              "<matplotlib.axes._subplots.AxesSubplot at 0x7f94aba91290>"
            ]
          },
          "metadata": {},
          "execution_count": 30
        },
        {
          "output_type": "display_data",
          "data": {
            "image/png": "[encoded data removed]",
            "text/plain": [
              "<Figure size 432x288 with 1 Axes>"
            ]
          },
          "metadata": {
            "needs_background": "light"
          }
        }
      ]
    },
    {
      "cell_type": "markdown",
      "metadata": {
        "id": "PGCZW_EiiPgW"
      },
      "source": [
        "####  people like to ride bikes when it is pretty hot around 25°C in average"
      ]
    },
    {
      "cell_type": "markdown",
      "metadata": {
        "id": "FM14bh-esMc8"
      },
      "source": [
        "##### Let's see the repartition of the rents follonwing the moment of the day"
      ]
    },
    {
      "cell_type": "code",
      "metadata": {
        "colab": {
          "base_uri": "https://localhost:8080/",
          "height": 265
        },
        "id": "a5NdPqP5sMc8",
        "outputId": "a8786d99-fb26-4e05-83b3-490c42bdfcdf"
      },
      "source": [
        "#pie plot graph between label_day_night and Rented Bike count\n",
        "data.groupby('label_day_night').sum()['Rented Bike Count'].plot.pie()"
      ],
      "execution_count": 31,
      "outputs": [
        {
          "output_type": "execute_result",
          "data": {
            "text/plain": [
              "<matplotlib.axes._subplots.AxesSubplot at 0x7f94abab0650>"
            ]
          },
          "metadata": {},
          "execution_count": 31
        },
        {
          "output_type": "display_data",
          "data": {
            "image/png": "[encoded data removed]",
            "text/plain": [
              "<Figure size 432x288 with 1 Axes>"
            ]
          },
          "metadata": {}
        }
      ]
    },
    {
      "cell_type": "markdown",
      "metadata": {
        "id": "NGsuSFA3sMc8"
      },
      "source": [
        "#### According to this boxplot there are much more rents during the day than the night \n",
        "As the median for the day is around 600 and the median for the night is around 350"
      ]
    },
    {
      "cell_type": "code",
      "metadata": {
        "colab": {
          "base_uri": "https://localhost:8080/",
          "height": 534
        },
        "id": "42NWGZR7sMc9",
        "outputId": "f6f88253-c840-4a05-a667-d6f1391b8d8a"
      },
      "source": [
        "#Boxplot between day and night vs Rented Bike count\n",
        "boxplotDay_night= data.boxplot(['Rented Bike Count'],by='label_day_night',figsize=(7,7))\n",
        "\n"
      ],
      "execution_count": 32,
      "outputs": [
        {
          "output_type": "stream",
          "name": "stderr",
          "text": [
            "/usr/local/lib/python3.7/dist-packages/numpy/core/_asarray.py:83: VisibleDeprecationWarning: Creating an ndarray from ragged nested sequences (which is a list-or-tuple of lists-or-tuples-or ndarrays with different lengths or shapes) is deprecated. If you meant to do this, you must specify 'dtype=object' when creating the ndarray\n",
            "  return array(a, dtype, copy=False, order=order)\n"
          ]
        },
        {
          "output_type": "display_data",
          "data": {
            "image/png": "[encoded data removed]",
            "text/plain": [
              "<Figure size 504x504 with 1 Axes>"
            ]
          },
          "metadata": {
            "needs_background": "light"
          }
        }
      ]
    },
    {
      "cell_type": "markdown",
      "metadata": {
        "id": "V-9joG6HsMc9"
      },
      "source": [
        "#### Let's do a visualisation during the holidays\n"
      ]
    },
    {
      "cell_type": "code",
      "metadata": {
        "colab": {
          "base_uri": "https://localhost:8080/",
          "height": 265
        },
        "id": "aUqHLYkBsMc9",
        "outputId": "c283f964-8a45-4956-a171-c98f237018a6"
      },
      "source": [
        "#pieplot between holidays vs Rented bike count\n",
        "data.groupby('Holiday').sum()['Rented Bike Count'].plot.pie(radius=0.5)\n"
      ],
      "execution_count": 33,
      "outputs": [
        {
          "output_type": "execute_result",
          "data": {
            "text/plain": [
              "<matplotlib.axes._subplots.AxesSubplot at 0x7f94aef97450>"
            ]
          },
          "metadata": {},
          "execution_count": 33
        },
        {
          "output_type": "display_data",
          "data": {
            "image/png": "[encoded data removed]",
            "text/plain": [
              "<Figure size 432x288 with 1 Axes>"
            ]
          },
          "metadata": {}
        }
      ]
    },
    {
      "cell_type": "markdown",
      "metadata": {
        "id": "hjSZLj0MsMc-"
      },
      "source": [
        "#### We see that holiday rent are very low so let's see on which period extends holidays\n",
        "it means that there are only 18 days of holidays which is very short. And that explains why the proportion of rents during holiday is low. So we understand that this column is not that important"
      ]
    },
    {
      "cell_type": "markdown",
      "metadata": {
        "id": "ixdl6yF-sMdB"
      },
      "source": [
        "# Step 3 : Modeling\n"
      ]
    },
    {
      "cell_type": "markdown",
      "metadata": {
        "id": "ddXrXx1EsMdC"
      },
      "source": [
        "#### Let's import libraires needed in this modeling part"
      ]
    },
    {
      "cell_type": "code",
      "metadata": {
        "id": "7KHc4VXysMdC"
      },
      "source": [
        "#importing libraries\n",
        "from sklearn.model_selection import train_test_split\n",
        "from sklearn import preprocessing\n",
        "from sklearn import linear_model\n",
        "from sklearn.metrics import r2_score,mean_squared_error\n",
        "from sklearn.linear_model import Ridge\n",
        "from sklearn.model_selection import GridSearchCV\n",
        "from sklearn.linear_model import Lasso\n",
        "from sklearn.svm import SVR\n",
        "from sklearn.tree import DecisionTreeRegressor\n",
        "from sklearn.ensemble import RandomForestRegressor\n",
        "from sklearn.ensemble import ExtraTreesRegressor\n"
      ],
      "execution_count": 34,
      "outputs": []
    },
    {
      "cell_type": "code",
      "metadata": {
        "id": "Fm8228UxsMdD"
      },
      "source": [
        "#Create an dictionary to report results\n",
        "reporting={}"
      ],
      "execution_count": 40,
      "outputs": []
    },
    {
      "cell_type": "code",
      "metadata": {
        "id": "Qee9rtqUsMdD"
      },
      "source": [
        "#Dropping the some variables\n",
        "X_MultipleLinearRegression=data.drop(['Rented Bike Count','Date','Seasons','Holiday','label_day_night','Functioning Day','WeekDay'],axis =1)\n",
        "y=data.iloc[:,1] #the target\n"
      ],
      "execution_count": 36,
      "outputs": []
    },
    {
      "cell_type": "code",
      "metadata": {
        "id": "VR02EUNosMdD"
      },
      "source": [
        "#split the data into train and test data\n",
        "X_train,X_test,y_train,y_test=train_test_split(X_MultipleLinearRegression,y,test_size=0.27)"
      ],
      "execution_count": 37,
      "outputs": []
    },
    {
      "cell_type": "markdown",
      "metadata": {
        "id": "1yEB3vdgsMdE"
      },
      "source": [
        "## Linear Regression "
      ]
    },
    {
      "cell_type": "code",
      "metadata": {
        "id": "Yr090jaJsMdE"
      },
      "source": [
        "#train and predict the testing data with linear regression model \n",
        "regr = linear_model.LinearRegression()\n",
        "fitregr=regr.fit(X_train, y_train)\n",
        "predregrtrain=fitregr.predict(X_train)\n",
        "predregrtest=fitregr.predict(X_test)"
      ],
      "execution_count": 38,
      "outputs": []
    },
    {
      "cell_type": "markdown",
      "metadata": {
        "id": "hSoMovhmsMdG"
      },
      "source": [
        "After fitting the model, we print the score between predictions and test targets"
      ]
    },
    {
      "cell_type": "code",
      "metadata": {
        "colab": {
          "base_uri": "https://localhost:8080/"
        },
        "id": "9q7bIh6hsMdG",
        "outputId": "c912f6c4-1073-43ba-a182-fc5b70af015d"
      },
      "source": [
        "#Evaluating the scores\n",
        "train_set_rmse = (np.sqrt(mean_squared_error(predregrtrain,y_train )))\n",
        "train_set_r2 = r2_score(y_train, predregrtrain)\n",
        "print('Linear model, R2 train score is : {} and the train root mean square is: {}'\n",
        "     .format(train_set_r2,train_set_rmse))\n",
        "\n",
        "test_set_rmse = (np.sqrt(mean_squared_error(predregrtest,y_test )))\n",
        "test_set_r2 = r2_score(y_test, predregrtest)\n",
        "print('Linear model, R2 test score is : {} and the test root mean square is: {}'\n",
        "     .format(test_set_r2,test_set_rmse))"
      ],
      "execution_count": 39,
      "outputs": [
        {
          "output_type": "stream",
          "name": "stdout",
          "text": [
            "Linear model, R2 train score is : 0.4732215702518766 and the train root mean square is: 465.6297761585992\n",
            "Linear model, R2 test score is : 0.4674879236261401 and the test root mean square is: 477.0822041193561\n"
          ]
        }
      ]
    },
    {
      "cell_type": "code",
      "metadata": {
        "id": "gCimAp8jsMdH"
      },
      "source": [
        "#Storing the result data for regression model \n",
        "reporting['Linear regression']=test_set_r2"
      ],
      "execution_count": 41,
      "outputs": []
    },
    {
      "cell_type": "markdown",
      "metadata": {
        "id": "7uiRTFXosMdQ"
      },
      "source": [
        "## SVR regression"
      ]
    },
    {
      "cell_type": "code",
      "metadata": {
        "scrolled": true,
        "colab": {
          "base_uri": "https://localhost:8080/"
        },
        "id": "iS80OnHNsMdR",
        "outputId": "f3f7c108-10d4-4b64-db75-b568fbf55b8b"
      },
      "source": [
        "#train and predict the testing data with SVM\n",
        "C=[ 10,50,80,100, 500,600,800,1000,1400,1800,2200 ]\n",
        "for i in C:\n",
        "    svr_Model = SVR(C = i).fit(X_train, y_train)\n",
        "    r2_train_svr = svr_Model.score(X_train, y_train)\n",
        "    r2_test_svr=svr_Model.score(X_test, y_test)\n",
        "    print('C = {:.2f}\\n \\\n",
        "SVR R2 training: {:.2f}, R2 test: {:.2f}\\n'\n",
        "         .format(i, r2_train_svr, r2_test_svr))"
      ],
      "execution_count": 42,
      "outputs": [
        {
          "output_type": "stream",
          "name": "stdout",
          "text": [
            "C = 10.00\n",
            " SVR R2 training: -0.02, R2 test: -0.04\n",
            "\n",
            "C = 50.00\n",
            " SVR R2 training: 0.02, R2 test: -0.01\n",
            "\n",
            "C = 80.00\n",
            " SVR R2 training: 0.04, R2 test: 0.01\n",
            "\n",
            "C = 100.00\n",
            " SVR R2 training: 0.05, R2 test: 0.02\n",
            "\n",
            "C = 500.00\n",
            " SVR R2 training: 0.21, R2 test: 0.19\n",
            "\n",
            "C = 600.00\n",
            " SVR R2 training: 0.24, R2 test: 0.22\n",
            "\n",
            "C = 800.00\n",
            " SVR R2 training: 0.29, R2 test: 0.26\n",
            "\n",
            "C = 1000.00\n",
            " SVR R2 training: 0.32, R2 test: 0.29\n",
            "\n",
            "C = 1400.00\n",
            " SVR R2 training: 0.36, R2 test: 0.33\n",
            "\n",
            "C = 1800.00\n",
            " SVR R2 training: 0.37, R2 test: 0.35\n",
            "\n",
            "C = 2200.00\n",
            " SVR R2 training: 0.39, R2 test: 0.36\n",
            "\n"
          ]
        }
      ]
    },
    {
      "cell_type": "code",
      "metadata": {
        "id": "6F7lObiRsMdR"
      },
      "source": [
        "#preding the scores\n",
        "svr_Model=SVR()\n",
        "\n",
        "param = {'C' : [800,1000,1400,1800,2200]}\n",
        "\n",
        "gridSearchSVR=GridSearchCV(svr_Model,param,scoring='r2',cv=5)\n",
        "gridSearchSVR.fit(X_train,y_train)\n",
        "\n",
        "\n",
        "best_SVR=gridSearchSVR.best_estimator_\n",
        "bestSVR_testScore=best_SVR.score(X_test,y_test)\n"
      ],
      "execution_count": 43,
      "outputs": []
    },
    {
      "cell_type": "code",
      "metadata": {
        "colab": {
          "base_uri": "https://localhost:8080/"
        },
        "id": "JeyzyXv0sMdS",
        "outputId": "46d3d49d-2016-46ed-f67c-981e40b227db"
      },
      "source": [
        "#printing the scores\n",
        "print('The best R2 train score is : {:.2f} with C = {:.2f}\\n \\\n",
        "'.format(gridSearchSVR.best_score_,gridSearchSVR.best_params_['C']))\n",
        "print('The best R2 test score is : {:.2f}\\n with Alpha = {:.2f}\\n \\\n",
        "'.format(bestSVR_testScore,gridSearchSVR.best_params_['C']))"
      ],
      "execution_count": 44,
      "outputs": [
        {
          "output_type": "stream",
          "name": "stdout",
          "text": [
            "The best R2 train score is : 0.37 with C = 2200.00\n",
            " \n",
            "The best R2 test score is : 0.36\n",
            " with Alpha = 2200.00\n",
            " \n"
          ]
        }
      ]
    },
    {
      "cell_type": "code",
      "metadata": {
        "id": "S-kNalCfsMdS"
      },
      "source": [
        "#store the result of svm model\n",
        "reporting['SVR']=gridSearchSVR.best_score_"
      ],
      "execution_count": 45,
      "outputs": []
    },
    {
      "cell_type": "markdown",
      "metadata": {
        "id": "I0cp5016sMdS"
      },
      "source": [
        "## Decision Tree Regressor\n",
        "We first need to standartize data"
      ]
    },
    {
      "cell_type": "code",
      "metadata": {
        "id": "RaPPd2kYsMdT"
      },
      "source": [
        "#Standaratize the data\n",
        "scalerTrain = preprocessing.StandardScaler().fit(X_train)\n",
        "scalerTest = preprocessing.StandardScaler().fit(X_test)\n",
        "X_train_Scaled=scalerTrain.transform(X_train)\n",
        "X_test_Scaled=scalerTest.transform(X_test)\n"
      ],
      "execution_count": 46,
      "outputs": []
    },
    {
      "cell_type": "code",
      "metadata": {
        "id": "GWIn-SJHsMdT"
      },
      "source": [
        "#train the data with decision tree model\n",
        "decisionTree = DecisionTreeRegressor()\n",
        "\n",
        "param = {'max_depth' : [1,4,5,6,7,10,15,20,8]}\n",
        "\n",
        "gridSearch_decisionTree=GridSearchCV(decisionTree,param,scoring='r2',cv=6)\n",
        "gridSearch_decisionTree.fit(X_train_Scaled,y_train)\n",
        "\n",
        "\n",
        "best_DecisionTree=gridSearch_decisionTree.best_estimator_\n",
        "bestDecisionTree_testScore=best_DecisionTree.score(X_test_Scaled,y_test)\n",
        "\n"
      ],
      "execution_count": 47,
      "outputs": []
    },
    {
      "cell_type": "code",
      "metadata": {
        "colab": {
          "base_uri": "https://localhost:8080/"
        },
        "id": "_4JVqMrVsMdT",
        "outputId": "2ec4ac97-bd20-424e-c712-53d2b1bc4634"
      },
      "source": [
        "#predicting the scores\n",
        "print('The best Decision Tree R2 score is : {:.2f} with max depth = {:.2f} \\n \\\n",
        "'.format(gridSearch_decisionTree.best_score_,gridSearch_decisionTree.best_params_['max_depth'] ))\n",
        "print('The best R2 test score is : {:.2f}\\n with max depth = {:.2f}\\n \\\n",
        "'.format(bestDecisionTree_testScore,gridSearch_decisionTree.best_params_['max_depth']))"
      ],
      "execution_count": 48,
      "outputs": [
        {
          "output_type": "stream",
          "name": "stdout",
          "text": [
            "The best Decision Tree R2 score is : 0.70 with max depth = 8.00 \n",
            " \n",
            "The best R2 test score is : 0.68\n",
            " with max depth = 8.00\n",
            " \n"
          ]
        }
      ]
    },
    {
      "cell_type": "code",
      "metadata": {
        "id": "MY7gWzOAsMdU"
      },
      "source": [
        "#storing the result data of Desicion tree\n",
        "reporting['Decision Tree Regressor']=bestDecisionTree_testScore"
      ],
      "execution_count": 49,
      "outputs": []
    },
    {
      "cell_type": "markdown",
      "metadata": {
        "id": "xVWHae08sMdY"
      },
      "source": [
        "# Present all the results of every model in a data frame and plot these in function of the model"
      ]
    },
    {
      "cell_type": "code",
      "metadata": {
        "id": "csx3BhDQsMdY"
      },
      "source": [
        "#create the dataframe for result scores\n",
        "data_results=pd.DataFrame()\n",
        "data_results['model']=reporting.keys()\n",
        "data_results['Score R2']=reporting.values()"
      ],
      "execution_count": 50,
      "outputs": []
    },
    {
      "cell_type": "code",
      "metadata": {
        "id": "gDYI8bB9sMdY"
      },
      "source": [
        "data_results=data_results.set_index('model')"
      ],
      "execution_count": 51,
      "outputs": []
    },
    {
      "cell_type": "code",
      "metadata": {
        "id": "ZttxwNZRsMdZ",
        "colab": {
          "base_uri": "https://localhost:8080/",
          "height": 121
        },
        "outputId": "20a44564-4142-40f0-ce78-467840d62830"
      },
      "source": [
        "dataModels=pd.DataFrame(data_results['Score R2'].sort_values(ascending=False))\n",
        "dataModels.style.background_gradient(cmap=sns.light_palette(color='blue',as_cmap=True))"
      ],
      "execution_count": 53,
      "outputs": [
        {
          "output_type": "execute_result",
          "data": {
            "text/html": [
              "<style  type=\"text/css\" >\n",
              "#T_eb2e42ca_10a3_11ec_9493_0242ac1c0002row0_col0{\n",
              "            background-color:  #0000ff;\n",
              "            color:  #f1f1f1;\n",
              "        }#T_eb2e42ca_10a3_11ec_9493_0242ac1c0002row1_col0{\n",
              "            background-color:  #a5a5f7;\n",
              "            color:  #000000;\n",
              "        }#T_eb2e42ca_10a3_11ec_9493_0242ac1c0002row2_col0{\n",
              "            background-color:  #f0f0f3;\n",
              "            color:  #000000;\n",
              "        }</style><table id=\"T_eb2e42ca_10a3_11ec_9493_0242ac1c0002\" ><thead>    <tr>        <th class=\"blank level0\" ></th>        <th class=\"col_heading level0 col0\" >Score R2</th>    </tr>    <tr>        <th class=\"index_name level0\" >model</th>        <th class=\"blank\" ></th>    </tr></thead><tbody>\n",
              "                <tr>\n",
              "                        <th id=\"T_eb2e42ca_10a3_11ec_9493_0242ac1c0002level0_row0\" class=\"row_heading level0 row0\" >Decision Tree Regressor</th>\n",
              "                        <td id=\"T_eb2e42ca_10a3_11ec_9493_0242ac1c0002row0_col0\" class=\"data row0 col0\" >0.677836</td>\n",
              "            </tr>\n",
              "            <tr>\n",
              "                        <th id=\"T_eb2e42ca_10a3_11ec_9493_0242ac1c0002level0_row1\" class=\"row_heading level0 row1\" >Linear regression</th>\n",
              "                        <td id=\"T_eb2e42ca_10a3_11ec_9493_0242ac1c0002row1_col0\" class=\"data row1 col0\" >0.467488</td>\n",
              "            </tr>\n",
              "            <tr>\n",
              "                        <th id=\"T_eb2e42ca_10a3_11ec_9493_0242ac1c0002level0_row2\" class=\"row_heading level0 row2\" >SVR</th>\n",
              "                        <td id=\"T_eb2e42ca_10a3_11ec_9493_0242ac1c0002row2_col0\" class=\"data row2 col0\" >0.371655</td>\n",
              "            </tr>\n",
              "    </tbody></table>"
            ],
            "text/plain": [
              "<pandas.io.formats.style.Styler at 0x7f94a4098c90>"
            ]
          },
          "metadata": {},
          "execution_count": 53
        }
      ]
    },
    {
      "cell_type": "markdown",
      "metadata": {
        "id": "Ny6734treZRv"
      },
      "source": [
        "###Conclusion"
      ]
    },
    {
      "cell_type": "markdown",
      "metadata": {
        "id": "-z2asLRkgZ7x"
      },
      "source": [
        "\n",
        "\n",
        "\n",
        "*   we see a high demand  from april  for bike \n",
        "*   summer is the season in which we have the more demand\n",
        "*   the amount of rented bikes is huge, when there is solar radiation, the counter of rents is around 1000\n",
        "*   there are much more bike sharing during the day than the night\n",
        "*   Accuaray is good for Decision tree followed by the linear Regression and SVR\n",
        "\n",
        "\n",
        "\n",
        "\n",
        "\n",
        "\n",
        "\n",
        "\n"
      ]
    },
    {
      "cell_type": "markdown",
      "metadata": {
        "id": "luio1uJ6sMda"
      },
      "source": [
        " ###  "
      ]
    }
  ]
}